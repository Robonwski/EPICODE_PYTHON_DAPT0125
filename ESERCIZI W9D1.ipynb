{
 "cells": [
  {
   "cell_type": "code",
   "execution_count": 1,
   "id": "8964355c-c17c-480b-b18a-417c85ed1c7c",
   "metadata": {},
   "outputs": [],
   "source": [
    "Studenti_iniziali = 25"
   ]
  },
  {
   "cell_type": "code",
   "execution_count": 2,
   "id": "a9655404-658a-47c8-8f9c-aca93b7d7a21",
   "metadata": {},
   "outputs": [
    {
     "name": "stdout",
     "output_type": "stream",
     "text": [
      "25\n"
     ]
    }
   ],
   "source": [
    "print(Studenti_iniziali)"
   ]
  },
  {
   "cell_type": "code",
   "execution_count": 6,
   "id": "0574b122-cc33-43fa-b3d7-a8d38d70dded",
   "metadata": {},
   "outputs": [],
   "source": [
    "nuovi_studenti = 3"
   ]
  },
  {
   "cell_type": "code",
   "execution_count": 7,
   "id": "5c6b9843-9c1a-4777-a142-92453b1e9867",
   "metadata": {},
   "outputs": [
    {
     "name": "stdout",
     "output_type": "stream",
     "text": [
      "28\n"
     ]
    }
   ],
   "source": [
    "Studenti_totali = Studenti_iniziali + nuovi_studenti\n",
    "print(Studenti_totali)"
   ]
  },
  {
   "cell_type": "code",
   "execution_count": 4,
   "id": "585743ea-b351-42d1-83b3-8918f966ac51",
   "metadata": {},
   "outputs": [
    {
     "name": "stdout",
     "output_type": "stream",
     "text": [
      "Epicode\n"
     ]
    }
   ],
   "source": [
    "Stringa = \"Epicode\"\n",
    "print(Stringa)"
   ]
  },
  {
   "cell_type": "code",
   "execution_count": 5,
   "id": "32406374-6524-4917-a3f7-5647e5f0d97a",
   "metadata": {},
   "outputs": [],
   "source": [
    "x = 10"
   ]
  },
  {
   "cell_type": "code",
   "execution_count": 6,
   "id": "d5f86379-643c-48f8-88db-9bf66eb174d6",
   "metadata": {},
   "outputs": [
    {
     "name": "stdout",
     "output_type": "stream",
     "text": [
      "36\n"
     ]
    }
   ],
   "source": [
    "x = (x+2) * 3\n",
    "print(x)"
   ]
  },
  {
   "cell_type": "code",
   "execution_count": 1,
   "id": "ad523525-9b67-449b-be6f-502f4d636b0c",
   "metadata": {},
   "outputs": [],
   "source": [
    "str1 = \"Windows\"\n",
    "str2 = \"Excel\"\n",
    "str3 = \"PowerPoint\"\n",
    "str4 = \"Word\""
   ]
  },
  {
   "cell_type": "code",
   "execution_count": 2,
   "id": "a2594793-b337-43be-bda3-fff91ed3a294",
   "metadata": {},
   "outputs": [
    {
     "data": {
      "text/plain": [
       "(7, 5, 10, 4)"
      ]
     },
     "execution_count": 2,
     "metadata": {},
     "output_type": "execute_result"
    }
   ],
   "source": [
    "len (str1), len (str2), len (str3), len (str4)"
   ]
  },
  {
   "cell_type": "code",
   "execution_count": 18,
   "id": "31307b76-60a4-4656-bbae-d4251b496663",
   "metadata": {},
   "outputs": [
    {
     "name": "stdout",
     "output_type": "stream",
     "text": [
      "3600\n"
     ]
    }
   ],
   "source": [
    "sec_in_1h = 60*60\n",
    "print (sec_in_1h)"
   ]
  },
  {
   "cell_type": "code",
   "execution_count": 19,
   "id": "ed49bd1a-2f37-4cee-b105-067529e0ae6f",
   "metadata": {},
   "outputs": [
    {
     "name": "stdout",
     "output_type": "stream",
     "text": [
      "86400\n"
     ]
    }
   ],
   "source": [
    "sec_in_1g = sec_in_1h * 24\n",
    "print(sec_in_1g)"
   ]
  },
  {
   "cell_type": "code",
   "execution_count": 20,
   "id": "9236400a-e15c-428f-880f-43b0ab88d3b2",
   "metadata": {},
   "outputs": [
    {
     "name": "stdout",
     "output_type": "stream",
     "text": [
      "31536000\n"
     ]
    }
   ],
   "source": [
    "sec_in_1A = sec_in_1g * 365\n",
    "print(sec_in_1A)"
   ]
  },
  {
   "cell_type": "code",
   "execution_count": 24,
   "id": "bafef19e-3195-4fa5-819c-147de70fdb4c",
   "metadata": {},
   "outputs": [],
   "source": [
    "my_string = \"I am studying Python\""
   ]
  },
  {
   "cell_type": "code",
   "execution_count": 28,
   "id": "626d0f06-7c75-4417-90c8-faf8881efca3",
   "metadata": {},
   "outputs": [
    {
     "data": {
      "text/plain": [
       "'I AM STUDYING PYTHON'"
      ]
     },
     "execution_count": 28,
     "metadata": {},
     "output_type": "execute_result"
    }
   ],
   "source": [
    "my_string.upper()"
   ]
  },
  {
   "cell_type": "code",
   "execution_count": 29,
   "id": "26c9dd94-b8fc-4c9f-9fd2-055b295f6235",
   "metadata": {},
   "outputs": [
    {
     "data": {
      "text/plain": [
       "'i am studying python'"
      ]
     },
     "execution_count": 29,
     "metadata": {},
     "output_type": "execute_result"
    }
   ],
   "source": [
    "my_string.lower()"
   ]
  },
  {
   "cell_type": "code",
   "execution_count": 32,
   "id": "76539c86-ded3-4012-a317-4b8b6c93d688",
   "metadata": {},
   "outputs": [
    {
     "data": {
      "text/plain": [
       "'I am studying a lot'"
      ]
     },
     "execution_count": 32,
     "metadata": {},
     "output_type": "execute_result"
    }
   ],
   "source": [
    "my_string.replace (\"Python\", \"a lot\")"
   ]
  },
  {
   "cell_type": "code",
   "execution_count": 34,
   "id": "c33f70fb-0507-4f93-aeda-671e4d6319b3",
   "metadata": {},
   "outputs": [
    {
     "data": {
      "text/plain": [
       "'I am studying Python'"
      ]
     },
     "execution_count": 34,
     "metadata": {},
     "output_type": "execute_result"
    }
   ],
   "source": [
    "my_string.strip()"
   ]
  },
  {
   "cell_type": "code",
   "execution_count": 35,
   "id": "3484edad-8bfc-439c-a537-fbdaec19b5bc",
   "metadata": {},
   "outputs": [
    {
     "data": {
      "text/plain": [
       "['I', 'am', 'studying', 'Python']"
      ]
     },
     "execution_count": 35,
     "metadata": {},
     "output_type": "execute_result"
    }
   ],
   "source": [
    "my_string.split(\" \")"
   ]
  },
  {
   "cell_type": "code",
   "execution_count": 36,
   "id": "6de994dc-7111-44c6-9941-d413b75cc9d7",
   "metadata": {},
   "outputs": [],
   "source": [
    "studenti = [\"Alex\", \"Bob\", \"Cindy\", \"Dan\", \"Emma\", \"Faith\", \"Grace\", \"Henry\"]"
   ]
  },
  {
   "cell_type": "code",
   "execution_count": 37,
   "id": "316bf91e-4cd1-4bdb-8ac0-f33388bd02e3",
   "metadata": {},
   "outputs": [],
   "source": [
    "corsi = [\"Cybersecurity\", \"Data Analyst\", \"Backend\", \"Frontend\", \"Data Analyst\", \"Backend\"]"
   ]
  },
  {
   "cell_type": "code",
   "execution_count": 39,
   "id": "924847d3-4b6a-415a-894e-1189f2098781",
   "metadata": {},
   "outputs": [],
   "source": [
    "corsi.append(\"Frontend\")"
   ]
  },
  {
   "cell_type": "code",
   "execution_count": 40,
   "id": "6bafb763-28fd-4e6e-bb9b-2a1c21b3f7dc",
   "metadata": {},
   "outputs": [],
   "source": [
    "corsi.append(\"Cybersecurity\")"
   ]
  },
  {
   "cell_type": "code",
   "execution_count": 41,
   "id": "df225093-ef49-4194-a8e5-443be8b5fcc6",
   "metadata": {},
   "outputs": [
    {
     "name": "stdout",
     "output_type": "stream",
     "text": [
      "['Alex', 'Bob', 'Cindy', 'Dan', 'Emma', 'Faith', 'Grace', 'Henry']\n",
      "['Cybersecurity', 'Data Analyst', 'Backend', 'Frontend', 'Data Analyst', 'Backend', 'Frontend', 'Cybersecurity']\n"
     ]
    }
   ],
   "source": [
    "print(studenti)\n",
    "print(corsi)"
   ]
  },
  {
   "cell_type": "code",
   "execution_count": null,
   "id": "455bca3e-7458-4fb9-bac5-5c7f5e5054f4",
   "metadata": {},
   "outputs": [],
   "source": []
  }
 ],
 "metadata": {
  "kernelspec": {
   "display_name": "Python 3 (ipykernel)",
   "language": "python",
   "name": "python3"
  },
  "language_info": {
   "codemirror_mode": {
    "name": "ipython",
    "version": 3
   },
   "file_extension": ".py",
   "mimetype": "text/x-python",
   "name": "python",
   "nbconvert_exporter": "python",
   "pygments_lexer": "ipython3",
   "version": "3.12.7"
  }
 },
 "nbformat": 4,
 "nbformat_minor": 5
}
