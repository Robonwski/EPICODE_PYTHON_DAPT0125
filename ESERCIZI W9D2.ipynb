{
 "cells": [
  {
   "cell_type": "code",
   "execution_count": 45,
   "id": "967434de-5492-4128-8027-3768c146e6d6",
   "metadata": {},
   "outputs": [],
   "source": [
    "scuola_nome = \"epicode\""
   ]
  },
  {
   "cell_type": "code",
   "execution_count": 46,
   "id": "1df4a1cc-61cb-4727-a92e-7fe8c7b6c1f8",
   "metadata": {},
   "outputs": [
    {
     "name": "stdout",
     "output_type": "stream",
     "text": [
      "['e', 'p', 'i', 'c', 'o', 'd', 'e']\n"
     ]
    }
   ],
   "source": [
    "scuolaa = list(scuola_nome)\n",
    "print (scuolaa)"
   ]
  },
  {
   "cell_type": "code",
   "execution_count": 47,
   "id": "79eb91dd-e0a1-4dbb-9c2c-c427f52153de",
   "metadata": {},
   "outputs": [],
   "source": [
    "lunghezza_parola = len(scuola_nome)\n",
    "indice = 0"
   ]
  },
  {
   "cell_type": "code",
   "execution_count": 48,
   "id": "656c82cb-9a0c-4386-be33-8e5898f04e7b",
   "metadata": {},
   "outputs": [
    {
     "name": "stdout",
     "output_type": "stream",
     "text": [
      "e\n",
      "p\n",
      "i\n",
      "c\n",
      "o\n",
      "d\n",
      "e\n"
     ]
    }
   ],
   "source": [
    "while indice <= lunghezza_parola - 1:\n",
    "    print(scuolaa[indice])\n",
    "    indice += 1"
   ]
  },
  {
   "cell_type": "code",
   "execution_count": 49,
   "id": "9648f41d-65ba-4797-b643-7cc87f7fc09d",
   "metadata": {},
   "outputs": [],
   "source": [
    "Numeri = 0"
   ]
  },
  {
   "cell_type": "code",
   "execution_count": 50,
   "id": "e6b63a23-82f1-42d1-a47c-f887833d1d3d",
   "metadata": {},
   "outputs": [
    {
     "data": {
      "text/plain": [
       "int"
      ]
     },
     "execution_count": 50,
     "metadata": {},
     "output_type": "execute_result"
    }
   ],
   "source": [
    "type (Numeri)"
   ]
  },
  {
   "cell_type": "code",
   "execution_count": 51,
   "id": "5cbc555a-6e48-41c4-8fb6-ad5d84301ca0",
   "metadata": {},
   "outputs": [
    {
     "name": "stdout",
     "output_type": "stream",
     "text": [
      "0\n",
      "1\n",
      "2\n",
      "3\n",
      "4\n",
      "5\n",
      "6\n",
      "7\n",
      "8\n",
      "9\n",
      "10\n",
      "11\n",
      "12\n",
      "13\n",
      "14\n",
      "15\n",
      "16\n",
      "17\n",
      "18\n",
      "19\n",
      "20\n"
     ]
    }
   ],
   "source": [
    "while Numeri <= 20:\n",
    "    print(Numeri)\n",
    "    Numeri +=1"
   ]
  },
  {
   "cell_type": "code",
   "execution_count": 66,
   "id": "b2011975-a3ad-4e8f-89f2-786b74f0f780",
   "metadata": {},
   "outputs": [
    {
     "name": "stdout",
     "output_type": "stream",
     "text": [
      "1\n",
      "2\n",
      "4\n",
      "8\n",
      "16\n",
      "32\n",
      "64\n",
      "128\n",
      "256\n",
      "512\n",
      "1024\n"
     ]
    }
   ],
   "source": [
    "Potenza = 0\n",
    "Numero_Potenza = 2\n",
    "while Potenza <= 10:\n",
    "    PT = Numero_Potenza ** Potenza\n",
    "    print(PT)\n",
    "    Potenza +=1"
   ]
  },
  {
   "cell_type": "code",
   "execution_count": 67,
   "id": "4978417c-5c2f-44ea-9675-41215002e727",
   "metadata": {},
   "outputs": [
    {
     "name": "stdin",
     "output_type": "stream",
     "text": [
      "Inserisci N 12\n"
     ]
    },
    {
     "name": "stdout",
     "output_type": "stream",
     "text": [
      "1\n",
      "2\n",
      "4\n",
      "8\n",
      "16\n",
      "32\n",
      "64\n",
      "128\n",
      "256\n",
      "512\n",
      "1024\n",
      "2048\n",
      "4096\n"
     ]
    }
   ],
   "source": [
    "Potenza1 = 0\n",
    "Numero_Potenza2 = 2\n",
    "N1 = input (\"Inserisci N\")\n",
    "N1 = int (N1)\n",
    "while Potenza1 <= N1:\n",
    "    PT2 = Numero_Potenza2 ** Potenza1\n",
    "    print(PT2)\n",
    "    Potenza1 +=1"
   ]
  },
  {
   "cell_type": "code",
   "execution_count": 78,
   "id": "b6c8fcab-1257-4c37-b5b6-356a7b27ac48",
   "metadata": {},
   "outputs": [
    {
     "name": "stdout",
     "output_type": "stream",
     "text": [
      "1\n",
      "2\n",
      "4\n",
      "8\n",
      "16\n",
      "32\n",
      "64\n",
      "128\n",
      "256\n",
      "512\n",
      "1024\n",
      "2048\n",
      "4096\n",
      "8192\n",
      "16384\n"
     ]
    }
   ],
   "source": [
    "Potenza2 = 0\n",
    "Numero_Potenza3 = 2\n",
    "while Numero_Potenza3 ** Potenza2 <= 25000:\n",
    "    PT3 = Numero_Potenza3 ** Potenza2\n",
    "    print(PT3)\n",
    "    Potenza2 +=1"
   ]
  },
  {
   "cell_type": "code",
   "execution_count": null,
   "id": "d5f2e1fb-7342-45d4-a104-81ed7932af5d",
   "metadata": {},
   "outputs": [],
   "source": []
  },
  {
   "cell_type": "code",
   "execution_count": 100,
   "id": "4403a84f-228b-4eff-826b-603cdf4df1f2",
   "metadata": {},
   "outputs": [
    {
     "name": "stdin",
     "output_type": "stream",
     "text": [
      "Inserisci Stringa CiaoATutti\n"
     ]
    },
    {
     "name": "stdout",
     "output_type": "stream",
     "text": [
      "Cia ... tti\n"
     ]
    }
   ],
   "source": [
    "str1 = str(input(\"Inserisci Stringa\"))\n",
    "lunghezza = len(str1)\n",
    "if lunghezza <= 6:\n",
    "    print (str1)\n",
    "else:\n",
    "    print(str1[0:3], \"...\", str1[-3:])\n",
    "    \n",
    "      \n",
    "      "
   ]
  },
  {
   "cell_type": "code",
   "execution_count": 102,
   "id": "b6b4de70-80f5-43a1-9d4f-999a2cbb6de1",
   "metadata": {},
   "outputs": [
    {
     "name": "stdout",
     "output_type": "stream",
     "text": [
      "e\n",
      "p\n",
      "i\n",
      "c\n",
      "o\n",
      "d\n",
      "e\n"
     ]
    }
   ],
   "source": [
    "NOME_SCUOLA = \"epicode\"\n",
    "for lettera in NOME_SCUOLA:\n",
    "    print(lettera)"
   ]
  },
  {
   "cell_type": "code",
   "execution_count": 107,
   "id": "f13c9722-f588-4c18-bba1-d0042e92a799",
   "metadata": {},
   "outputs": [
    {
     "name": "stdout",
     "output_type": "stream",
     "text": [
      "range(0, 11)\n"
     ]
    }
   ],
   "source": [
    "Numero_Potenza4 = 2\n",
    "Potenza4 = range(0,11)\n",
    "print (Potenza4)"
   ]
  },
  {
   "cell_type": "code",
   "execution_count": 109,
   "id": "a8c65f3c-d053-41aa-bc1e-f1d957e69958",
   "metadata": {},
   "outputs": [
    {
     "name": "stdout",
     "output_type": "stream",
     "text": [
      "1\n",
      "2\n",
      "4\n",
      "8\n",
      "16\n",
      "32\n",
      "64\n",
      "128\n",
      "256\n",
      "512\n",
      "1024\n"
     ]
    }
   ],
   "source": [
    "for numeri in Potenza4:\n",
    "    print(Numero_Potenza4 ** numeri)"
   ]
  },
  {
   "cell_type": "code",
   "execution_count": 112,
   "id": "5fa1abef-e5b1-4d39-aa30-7c4508a5d2d2",
   "metadata": {},
   "outputs": [
    {
     "name": "stdin",
     "output_type": "stream",
     "text": [
      "Inserisci K 2\n",
      "Inserisci N 10\n"
     ]
    },
    {
     "name": "stdout",
     "output_type": "stream",
     "text": [
      "[1, 2, 4, 8, 16, 32, 64, 128, 256, 512, 1024]\n"
     ]
    }
   ],
   "source": [
    "K = int(input(\"Inserisci K\"))\n",
    "NN = int(input(\"Inserisci N\"))\n",
    "Potenza5 = 0\n",
    "Lista_Finale = []\n",
    "while Potenza5 <= NN:\n",
    "    PT5 = K ** Potenza5\n",
    "    Lista_Finale.append(PT5)\n",
    "    Potenza5 +=1\n",
    "print(Lista_Finale)"
   ]
  },
  {
   "cell_type": "code",
   "execution_count": 116,
   "id": "a8528a53-5b6d-405a-b49c-232870441f62",
   "metadata": {},
   "outputs": [
    {
     "name": "stdin",
     "output_type": "stream",
     "text": [
      "Inserisci K 2\n",
      "Inserisci N 11\n"
     ]
    },
    {
     "name": "stdout",
     "output_type": "stream",
     "text": [
      "[1, 2, 4, 8, 16, 32, 64, 128, 256, 512, 1024]\n"
     ]
    }
   ],
   "source": [
    "K1 = int(input(\"Inserisci K\"))\n",
    "NN1 = int(input(\"Inserisci N\"))\n",
    "Potenza6 = 0\n",
    "Lista_Finale1 = []\n",
    "for numeri in range (NN1):\n",
    "    PT6 = K ** numeri\n",
    "    Lista_Finale1.append(PT6)\n",
    "print(Lista_Finale1)"
   ]
  },
  {
   "cell_type": "code",
   "execution_count": 119,
   "id": "cd879579-5304-4be2-9008-146857d6d022",
   "metadata": {},
   "outputs": [
    {
     "name": "stdout",
     "output_type": "stream",
     "text": [
      "La media è 70.0\n"
     ]
    }
   ],
   "source": [
    "guadagni = [100, 90, 70, 40, 50, 80, 90, 120, 80, 20, 50, 50]\n",
    "somma = 0\n",
    "for guadagno in guadagni:\n",
    "    somma += guadagno\n",
    "    media = somma / len(guadagni)\n",
    "print(\"La media è\", media)"
   ]
  },
  {
   "cell_type": "code",
   "execution_count": 135,
   "id": "29d241dc-0f9d-4caa-bac2-33306f20d9ea",
   "metadata": {},
   "outputs": [
    {
     "name": "stdout",
     "output_type": "stream",
     "text": [
      "Albergo Numero e= 1\n",
      "Albergo Numero E= 0\n",
      "Sedia Numero e= 1\n",
      "Sedia Numero E= 0\n",
      "Borgo Numero e= 0\n",
      "Borgo Numero E= 0\n",
      "Petalo Numero e= 1\n",
      "Petalo Numero E= 0\n",
      "Eremo Numero e= 1\n",
      "Eremo Numero E= 1\n",
      "Belvedere Numero e= 4\n",
      "Belvedere Numero E= 0\n",
      "Semestre Numero e= 3\n",
      "Semestre Numero E= 0\n",
      "Esteta Numero e= 1\n",
      "Esteta Numero E= 1\n",
      "Sosta Numero e= 0\n",
      "Sosta Numero E= 0\n",
      "Orpello Numero e= 1\n",
      "Orpello Numero E= 0\n",
      "Abete Numero e= 2\n",
      "Abete Numero E= 0\n",
      "Orologio Numero e= 0\n",
      "Orologio Numero E= 0\n",
      "Cesta Numero e= 1\n",
      "Cesta Numero E= 0\n",
      "Ermellino Numero e= 1\n",
      "Ermellino Numero E= 1\n"
     ]
    }
   ],
   "source": [
    "parole = [\"Albergo\", \"Sedia\", \"Borgo\", \"Petalo\", \"Eremo\", \"Belvedere\", \"Semestre\", \"Esteta\", \"Sosta\", \"Orpello\", \"Abete\", \"Orologio\", \"Cesta\", \"Ermellino\"]\n",
    "for parola in parole:\n",
    "    print (parola, \"Numero e=\", parola.count(\"e\"))\n",
    "    print (parola ,\"Numero E=\", parola.count(\"E\"))"
   ]
  },
  {
   "cell_type": "code",
   "execution_count": 123,
   "id": "0af1ff3c-cac6-4fb3-a1e6-e5964ada39eb",
   "metadata": {},
   "outputs": [],
   "source": [
    "Proprietario_Auto = {\"Ada\":\"Punto\",\n",
    "                   \"Ben\":\"Multipla\",\n",
    "                   \"Charlie\":\"Golf\",\n",
    "                   \"Debbie\":\"107\"}"
   ]
  },
  {
   "cell_type": "code",
   "execution_count": 126,
   "id": "0f3bb0cd-55e3-4a7e-b857-9afabe229a1f",
   "metadata": {},
   "outputs": [
    {
     "name": "stdout",
     "output_type": "stream",
     "text": [
      "{'Ada': 'Punto', 'Ben': 'Multipla', 'Charlie': 'Golf', 'Debbie': '107'}\n"
     ]
    },
    {
     "data": {
      "text/plain": [
       "'107'"
      ]
     },
     "execution_count": 126,
     "metadata": {},
     "output_type": "execute_result"
    }
   ],
   "source": [
    "print(Proprietario_Auto)\n",
    "Proprietario_Auto.get(\"Debbie\")"
   ]
  },
  {
   "cell_type": "code",
   "execution_count": 128,
   "id": "0fc3f5cb-2f32-4797-9bcd-2eea2f86c24b",
   "metadata": {},
   "outputs": [
    {
     "name": "stdout",
     "output_type": "stream",
     "text": [
      "107\n"
     ]
    }
   ],
   "source": [
    "print(Proprietario_Auto[\"Debbie\"])"
   ]
  },
  {
   "cell_type": "code",
   "execution_count": 129,
   "id": "57def2f6-8f22-4b53-99b1-31a6591353a2",
   "metadata": {},
   "outputs": [
    {
     "name": "stdout",
     "output_type": "stream",
     "text": [
      "Punto\n",
      "Golf\n",
      "107\n"
     ]
    }
   ],
   "source": [
    "for auto in Proprietario_Auto.values():\n",
    "    if auto != \"Multipla\":\n",
    "        print (auto)\n",
    "    "
   ]
  },
  {
   "cell_type": "code",
   "execution_count": 130,
   "id": "73fc06a2-2438-40a4-b8dc-7ca97b92be35",
   "metadata": {},
   "outputs": [],
   "source": [
    "nuovi_proprietari = {\"Ben\": \"Polo\", \"Fred\": \"Octavia\", \"Grace\": \"Yaris\", \"Hugh\": \"Clio\"}"
   ]
  },
  {
   "cell_type": "code",
   "execution_count": 131,
   "id": "d7ed4a28-0937-4e0f-80d5-55664e4c4da1",
   "metadata": {},
   "outputs": [
    {
     "name": "stdout",
     "output_type": "stream",
     "text": [
      "{'Ada': 'Punto', 'Ben': 'Polo', 'Charlie': 'Golf', 'Debbie': '107', 'Fred': 'Octavia', 'Grace': 'Yaris', 'Hugh': 'Clio'}\n"
     ]
    }
   ],
   "source": [
    "Proprietario_Auto.update(nuovi_proprietari)\n",
    "print(Proprietario_Auto)"
   ]
  },
  {
   "cell_type": "code",
   "execution_count": null,
   "id": "b29ee69a-61ae-44bd-bffe-5dbc8d45d7df",
   "metadata": {},
   "outputs": [],
   "source": []
  }
 ],
 "metadata": {
  "kernelspec": {
   "display_name": "Python 3 (ipykernel)",
   "language": "python",
   "name": "python3"
  },
  "language_info": {
   "codemirror_mode": {
    "name": "ipython",
    "version": 3
   },
   "file_extension": ".py",
   "mimetype": "text/x-python",
   "name": "python",
   "nbconvert_exporter": "python",
   "pygments_lexer": "ipython3",
   "version": "3.12.7"
  }
 },
 "nbformat": 4,
 "nbformat_minor": 5
}
