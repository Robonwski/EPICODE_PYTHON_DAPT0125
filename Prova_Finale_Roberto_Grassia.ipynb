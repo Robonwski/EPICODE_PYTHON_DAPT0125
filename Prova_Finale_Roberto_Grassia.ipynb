{
 "cells": [
  {
   "cell_type": "markdown",
   "id": "a6e3ae54-7399-41bb-afe6-28b3c7a9b8b3",
   "metadata": {},
   "source": [
    "Prova Finale Roberto Grassia\n",
    "Il committente richiede di avere un report su casi e vaccinazioni in diverse aree del mondo; a tal fine, richiede di utilizzare il dataset, curato da Our World in Data, all'indirizzo https://github.com/owid/covid-19-data/tree/master/public/data"
   ]
  },
  {
   "cell_type": "code",
   "execution_count": 1,
   "id": "1e8a9d6d-b3f8-483e-ba90-cb5d2e1981a1",
   "metadata": {},
   "outputs": [],
   "source": [
    "import os\n",
    "import dotenv\n",
    "import sqlalchemy\n",
    "import pandas as pd\n",
    "import numpy as np\n",
    "import seaborn as sns\n",
    "import matplotlib.pyplot as plt\n",
    "urlcovid = r\"C:\\Users\\rgras\\Desktop\\Python\\Prova_finale.csv\"\n",
    "covid = pd.read_csv(urlcovid)"
   ]
  },
  {
   "cell_type": "markdown",
   "id": "88750f6c-aa9a-44c3-9085-cd5cbc6afb05",
   "metadata": {},
   "source": [
    "1.Si richiede di verificare le dimensioni del dataset e i relativi metadati"
   ]
  },
  {
   "cell_type": "code",
   "execution_count": 2,
   "id": "445fd812-f08c-4d85-8572-545a91256e74",
   "metadata": {},
   "outputs": [
    {
     "name": "stdout",
     "output_type": "stream",
     "text": [
      "<class 'pandas.core.frame.DataFrame'>\n",
      "RangeIndex: 429435 entries, 0 to 429434\n",
      "Data columns (total 67 columns):\n",
      " #   Column                                      Non-Null Count   Dtype  \n",
      "---  ------                                      --------------   -----  \n",
      " 0   iso_code                                    429435 non-null  object \n",
      " 1   continent                                   402910 non-null  object \n",
      " 2   location                                    429435 non-null  object \n",
      " 3   date                                        429435 non-null  object \n",
      " 4   total_cases                                 411804 non-null  float64\n",
      " 5   new_cases                                   410159 non-null  float64\n",
      " 6   new_cases_smoothed                          408929 non-null  float64\n",
      " 7   total_deaths                                411804 non-null  float64\n",
      " 8   new_deaths                                  410608 non-null  float64\n",
      " 9   new_deaths_smoothed                         409378 non-null  float64\n",
      " 10  total_cases_per_million                     411804 non-null  float64\n",
      " 11  new_cases_per_million                       410159 non-null  float64\n",
      " 12  new_cases_smoothed_per_million              408929 non-null  float64\n",
      " 13  total_deaths_per_million                    411804 non-null  float64\n",
      " 14  new_deaths_per_million                      410608 non-null  float64\n",
      " 15  new_deaths_smoothed_per_million             409378 non-null  float64\n",
      " 16  reproduction_rate                           184817 non-null  float64\n",
      " 17  icu_patients                                39116 non-null   float64\n",
      " 18  icu_patients_per_million                    39116 non-null   float64\n",
      " 19  hosp_patients                               40656 non-null   float64\n",
      " 20  hosp_patients_per_million                   40656 non-null   float64\n",
      " 21  weekly_icu_admissions                       10993 non-null   float64\n",
      " 22  weekly_icu_admissions_per_million           10993 non-null   float64\n",
      " 23  weekly_hosp_admissions                      24497 non-null   float64\n",
      " 24  weekly_hosp_admissions_per_million          24497 non-null   float64\n",
      " 25  total_tests                                 79387 non-null   float64\n",
      " 26  new_tests                                   75403 non-null   float64\n",
      " 27  total_tests_per_thousand                    79387 non-null   float64\n",
      " 28  new_tests_per_thousand                      75403 non-null   float64\n",
      " 29  new_tests_smoothed                          103965 non-null  float64\n",
      " 30  new_tests_smoothed_per_thousand             103965 non-null  float64\n",
      " 31  positive_rate                               95927 non-null   float64\n",
      " 32  tests_per_case                              94348 non-null   float64\n",
      " 33  tests_units                                 106788 non-null  object \n",
      " 34  total_vaccinations                          85417 non-null   float64\n",
      " 35  people_vaccinated                           81132 non-null   float64\n",
      " 36  people_fully_vaccinated                     78061 non-null   float64\n",
      " 37  total_boosters                              53600 non-null   float64\n",
      " 38  new_vaccinations                            70971 non-null   float64\n",
      " 39  new_vaccinations_smoothed                   195029 non-null  float64\n",
      " 40  total_vaccinations_per_hundred              85417 non-null   float64\n",
      " 41  people_vaccinated_per_hundred               81132 non-null   float64\n",
      " 42  people_fully_vaccinated_per_hundred         78061 non-null   float64\n",
      " 43  total_boosters_per_hundred                  53600 non-null   float64\n",
      " 44  new_vaccinations_smoothed_per_million       195029 non-null  float64\n",
      " 45  new_people_vaccinated_smoothed              192177 non-null  float64\n",
      " 46  new_people_vaccinated_smoothed_per_hundred  192177 non-null  float64\n",
      " 47  stringency_index                            196190 non-null  float64\n",
      " 48  population_density                          360492 non-null  float64\n",
      " 49  median_age                                  334663 non-null  float64\n",
      " 50  aged_65_older                               323270 non-null  float64\n",
      " 51  aged_70_older                               331315 non-null  float64\n",
      " 52  gdp_per_capita                              328292 non-null  float64\n",
      " 53  extreme_poverty                             211996 non-null  float64\n",
      " 54  cardiovasc_death_rate                       328865 non-null  float64\n",
      " 55  diabetes_prevalence                         345911 non-null  float64\n",
      " 56  female_smokers                              247165 non-null  float64\n",
      " 57  male_smokers                                243817 non-null  float64\n",
      " 58  handwashing_facilities                      161741 non-null  float64\n",
      " 59  hospital_beds_per_thousand                  290689 non-null  float64\n",
      " 60  life_expectancy                             390299 non-null  float64\n",
      " 61  human_development_index                     319127 non-null  float64\n",
      " 62  population                                  429435 non-null  int64  \n",
      " 63  excess_mortality_cumulative_absolute        13411 non-null   float64\n",
      " 64  excess_mortality_cumulative                 13411 non-null   float64\n",
      " 65  excess_mortality                            13411 non-null   float64\n",
      " 66  excess_mortality_cumulative_per_million     13411 non-null   float64\n",
      "dtypes: float64(61), int64(1), object(5)\n",
      "memory usage: 219.5+ MB\n"
     ]
    }
   ],
   "source": [
    "covid.info() #Visualizzo le informazioni del dataframe e metadati"
   ]
  },
  {
   "cell_type": "code",
   "execution_count": 3,
   "id": "0217f663-4eb4-4ff8-8621-6473232c2754",
   "metadata": {},
   "outputs": [
    {
     "name": "stdout",
     "output_type": "stream",
     "text": [
      "La Dimensione del dataframe è: (429435, 67)\n"
     ]
    }
   ],
   "source": [
    "print(\"La Dimensione del dataframe è:\",covid.shape) #Visualizzo la dimensione del dataframe"
   ]
  },
  {
   "cell_type": "code",
   "execution_count": 4,
   "id": "9b75142c-5938-44c5-986c-855e6add7b45",
   "metadata": {},
   "outputs": [
    {
     "data": {
      "text/html": [
       "<div>\n",
       "<style scoped>\n",
       "    .dataframe tbody tr th:only-of-type {\n",
       "        vertical-align: middle;\n",
       "    }\n",
       "\n",
       "    .dataframe tbody tr th {\n",
       "        vertical-align: top;\n",
       "    }\n",
       "\n",
       "    .dataframe thead th {\n",
       "        text-align: right;\n",
       "    }\n",
       "</style>\n",
       "<table border=\"1\" class=\"dataframe\">\n",
       "  <thead>\n",
       "    <tr style=\"text-align: right;\">\n",
       "      <th></th>\n",
       "      <th>iso_code</th>\n",
       "      <th>continent</th>\n",
       "      <th>location</th>\n",
       "      <th>date</th>\n",
       "      <th>total_cases</th>\n",
       "      <th>new_cases</th>\n",
       "      <th>new_cases_smoothed</th>\n",
       "      <th>total_deaths</th>\n",
       "      <th>new_deaths</th>\n",
       "      <th>new_deaths_smoothed</th>\n",
       "      <th>...</th>\n",
       "      <th>male_smokers</th>\n",
       "      <th>handwashing_facilities</th>\n",
       "      <th>hospital_beds_per_thousand</th>\n",
       "      <th>life_expectancy</th>\n",
       "      <th>human_development_index</th>\n",
       "      <th>population</th>\n",
       "      <th>excess_mortality_cumulative_absolute</th>\n",
       "      <th>excess_mortality_cumulative</th>\n",
       "      <th>excess_mortality</th>\n",
       "      <th>excess_mortality_cumulative_per_million</th>\n",
       "    </tr>\n",
       "  </thead>\n",
       "  <tbody>\n",
       "    <tr>\n",
       "      <th>146060</th>\n",
       "      <td>GRC</td>\n",
       "      <td>Europe</td>\n",
       "      <td>Greece</td>\n",
       "      <td>2021-09-23</td>\n",
       "      <td>637799.0</td>\n",
       "      <td>0.0</td>\n",
       "      <td>2188.286</td>\n",
       "      <td>14509.0</td>\n",
       "      <td>0.0</td>\n",
       "      <td>38.429</td>\n",
       "      <td>...</td>\n",
       "      <td>52.0</td>\n",
       "      <td>NaN</td>\n",
       "      <td>4.210</td>\n",
       "      <td>82.24</td>\n",
       "      <td>0.888</td>\n",
       "      <td>10384972</td>\n",
       "      <td>NaN</td>\n",
       "      <td>NaN</td>\n",
       "      <td>NaN</td>\n",
       "      <td>NaN</td>\n",
       "    </tr>\n",
       "    <tr>\n",
       "      <th>274233</th>\n",
       "      <td>NGA</td>\n",
       "      <td>Africa</td>\n",
       "      <td>Nigeria</td>\n",
       "      <td>2021-02-04</td>\n",
       "      <td>130557.0</td>\n",
       "      <td>0.0</td>\n",
       "      <td>1422.143</td>\n",
       "      <td>1578.0</td>\n",
       "      <td>0.0</td>\n",
       "      <td>11.857</td>\n",
       "      <td>...</td>\n",
       "      <td>10.8</td>\n",
       "      <td>41.949</td>\n",
       "      <td>NaN</td>\n",
       "      <td>54.69</td>\n",
       "      <td>0.539</td>\n",
       "      <td>218541216</td>\n",
       "      <td>NaN</td>\n",
       "      <td>NaN</td>\n",
       "      <td>NaN</td>\n",
       "      <td>NaN</td>\n",
       "    </tr>\n",
       "    <tr>\n",
       "      <th>312816</th>\n",
       "      <td>REU</td>\n",
       "      <td>Africa</td>\n",
       "      <td>Reunion</td>\n",
       "      <td>2020-03-26</td>\n",
       "      <td>47.0</td>\n",
       "      <td>0.0</td>\n",
       "      <td>4.857</td>\n",
       "      <td>0.0</td>\n",
       "      <td>0.0</td>\n",
       "      <td>0.000</td>\n",
       "      <td>...</td>\n",
       "      <td>NaN</td>\n",
       "      <td>NaN</td>\n",
       "      <td>NaN</td>\n",
       "      <td>80.48</td>\n",
       "      <td>NaN</td>\n",
       "      <td>974062</td>\n",
       "      <td>NaN</td>\n",
       "      <td>NaN</td>\n",
       "      <td>NaN</td>\n",
       "      <td>NaN</td>\n",
       "    </tr>\n",
       "    <tr>\n",
       "      <th>252536</th>\n",
       "      <td>MNE</td>\n",
       "      <td>Europe</td>\n",
       "      <td>Montenegro</td>\n",
       "      <td>2021-04-17</td>\n",
       "      <td>92674.0</td>\n",
       "      <td>0.0</td>\n",
       "      <td>239.429</td>\n",
       "      <td>1262.0</td>\n",
       "      <td>0.0</td>\n",
       "      <td>9.714</td>\n",
       "      <td>...</td>\n",
       "      <td>47.9</td>\n",
       "      <td>NaN</td>\n",
       "      <td>3.861</td>\n",
       "      <td>76.88</td>\n",
       "      <td>0.829</td>\n",
       "      <td>627082</td>\n",
       "      <td>NaN</td>\n",
       "      <td>NaN</td>\n",
       "      <td>NaN</td>\n",
       "      <td>NaN</td>\n",
       "    </tr>\n",
       "    <tr>\n",
       "      <th>132139</th>\n",
       "      <td>GUF</td>\n",
       "      <td>South America</td>\n",
       "      <td>French Guiana</td>\n",
       "      <td>2020-04-12</td>\n",
       "      <td>86.0</td>\n",
       "      <td>24.0</td>\n",
       "      <td>3.429</td>\n",
       "      <td>0.0</td>\n",
       "      <td>0.0</td>\n",
       "      <td>0.000</td>\n",
       "      <td>...</td>\n",
       "      <td>NaN</td>\n",
       "      <td>NaN</td>\n",
       "      <td>NaN</td>\n",
       "      <td>79.95</td>\n",
       "      <td>NaN</td>\n",
       "      <td>304568</td>\n",
       "      <td>-51.399998</td>\n",
       "      <td>-17.46</td>\n",
       "      <td>-43.4</td>\n",
       "      <td>-176.64565</td>\n",
       "    </tr>\n",
       "    <tr>\n",
       "      <th>201076</th>\n",
       "      <td>KWT</td>\n",
       "      <td>Asia</td>\n",
       "      <td>Kuwait</td>\n",
       "      <td>2022-01-06</td>\n",
       "      <td>417723.0</td>\n",
       "      <td>0.0</td>\n",
       "      <td>401.714</td>\n",
       "      <td>2468.0</td>\n",
       "      <td>0.0</td>\n",
       "      <td>0.000</td>\n",
       "      <td>...</td>\n",
       "      <td>37.0</td>\n",
       "      <td>NaN</td>\n",
       "      <td>2.000</td>\n",
       "      <td>75.49</td>\n",
       "      <td>0.806</td>\n",
       "      <td>4268886</td>\n",
       "      <td>NaN</td>\n",
       "      <td>NaN</td>\n",
       "      <td>NaN</td>\n",
       "      <td>NaN</td>\n",
       "    </tr>\n",
       "    <tr>\n",
       "      <th>238927</th>\n",
       "      <td>MRT</td>\n",
       "      <td>Africa</td>\n",
       "      <td>Mauritania</td>\n",
       "      <td>2020-09-16</td>\n",
       "      <td>7274.0</td>\n",
       "      <td>0.0</td>\n",
       "      <td>20.000</td>\n",
       "      <td>308.0</td>\n",
       "      <td>0.0</td>\n",
       "      <td>0.143</td>\n",
       "      <td>...</td>\n",
       "      <td>NaN</td>\n",
       "      <td>15.950</td>\n",
       "      <td>NaN</td>\n",
       "      <td>64.92</td>\n",
       "      <td>0.546</td>\n",
       "      <td>4736146</td>\n",
       "      <td>NaN</td>\n",
       "      <td>NaN</td>\n",
       "      <td>NaN</td>\n",
       "      <td>NaN</td>\n",
       "    </tr>\n",
       "    <tr>\n",
       "      <th>237773</th>\n",
       "      <td>MTQ</td>\n",
       "      <td>North America</td>\n",
       "      <td>Martinique</td>\n",
       "      <td>2022-02-18</td>\n",
       "      <td>105097.0</td>\n",
       "      <td>0.0</td>\n",
       "      <td>1211.143</td>\n",
       "      <td>857.0</td>\n",
       "      <td>0.0</td>\n",
       "      <td>2.143</td>\n",
       "      <td>...</td>\n",
       "      <td>NaN</td>\n",
       "      <td>NaN</td>\n",
       "      <td>NaN</td>\n",
       "      <td>82.54</td>\n",
       "      <td>NaN</td>\n",
       "      <td>367512</td>\n",
       "      <td>NaN</td>\n",
       "      <td>NaN</td>\n",
       "      <td>NaN</td>\n",
       "      <td>NaN</td>\n",
       "    </tr>\n",
       "    <tr>\n",
       "      <th>421452</th>\n",
       "      <td>WLF</td>\n",
       "      <td>Oceania</td>\n",
       "      <td>Wallis and Futuna</td>\n",
       "      <td>2021-02-06</td>\n",
       "      <td>5.0</td>\n",
       "      <td>0.0</td>\n",
       "      <td>0.143</td>\n",
       "      <td>0.0</td>\n",
       "      <td>0.0</td>\n",
       "      <td>0.000</td>\n",
       "      <td>...</td>\n",
       "      <td>NaN</td>\n",
       "      <td>NaN</td>\n",
       "      <td>NaN</td>\n",
       "      <td>79.94</td>\n",
       "      <td>NaN</td>\n",
       "      <td>11596</td>\n",
       "      <td>NaN</td>\n",
       "      <td>NaN</td>\n",
       "      <td>NaN</td>\n",
       "      <td>NaN</td>\n",
       "    </tr>\n",
       "    <tr>\n",
       "      <th>39250</th>\n",
       "      <td>BEN</td>\n",
       "      <td>Africa</td>\n",
       "      <td>Benin</td>\n",
       "      <td>2022-01-08</td>\n",
       "      <td>25044.0</td>\n",
       "      <td>0.0</td>\n",
       "      <td>15.571</td>\n",
       "      <td>161.0</td>\n",
       "      <td>0.0</td>\n",
       "      <td>0.000</td>\n",
       "      <td>...</td>\n",
       "      <td>12.3</td>\n",
       "      <td>11.035</td>\n",
       "      <td>0.500</td>\n",
       "      <td>61.77</td>\n",
       "      <td>0.545</td>\n",
       "      <td>13352864</td>\n",
       "      <td>NaN</td>\n",
       "      <td>NaN</td>\n",
       "      <td>NaN</td>\n",
       "      <td>NaN</td>\n",
       "    </tr>\n",
       "  </tbody>\n",
       "</table>\n",
       "<p>10 rows × 67 columns</p>\n",
       "</div>"
      ],
      "text/plain": [
       "       iso_code      continent           location        date  total_cases  \\\n",
       "146060      GRC         Europe             Greece  2021-09-23     637799.0   \n",
       "274233      NGA         Africa            Nigeria  2021-02-04     130557.0   \n",
       "312816      REU         Africa            Reunion  2020-03-26         47.0   \n",
       "252536      MNE         Europe         Montenegro  2021-04-17      92674.0   \n",
       "132139      GUF  South America      French Guiana  2020-04-12         86.0   \n",
       "201076      KWT           Asia             Kuwait  2022-01-06     417723.0   \n",
       "238927      MRT         Africa         Mauritania  2020-09-16       7274.0   \n",
       "237773      MTQ  North America         Martinique  2022-02-18     105097.0   \n",
       "421452      WLF        Oceania  Wallis and Futuna  2021-02-06          5.0   \n",
       "39250       BEN         Africa              Benin  2022-01-08      25044.0   \n",
       "\n",
       "        new_cases  new_cases_smoothed  total_deaths  new_deaths  \\\n",
       "146060        0.0            2188.286       14509.0         0.0   \n",
       "274233        0.0            1422.143        1578.0         0.0   \n",
       "312816        0.0               4.857           0.0         0.0   \n",
       "252536        0.0             239.429        1262.0         0.0   \n",
       "132139       24.0               3.429           0.0         0.0   \n",
       "201076        0.0             401.714        2468.0         0.0   \n",
       "238927        0.0              20.000         308.0         0.0   \n",
       "237773        0.0            1211.143         857.0         0.0   \n",
       "421452        0.0               0.143           0.0         0.0   \n",
       "39250         0.0              15.571         161.0         0.0   \n",
       "\n",
       "        new_deaths_smoothed  ...  male_smokers  handwashing_facilities  \\\n",
       "146060               38.429  ...          52.0                     NaN   \n",
       "274233               11.857  ...          10.8                  41.949   \n",
       "312816                0.000  ...           NaN                     NaN   \n",
       "252536                9.714  ...          47.9                     NaN   \n",
       "132139                0.000  ...           NaN                     NaN   \n",
       "201076                0.000  ...          37.0                     NaN   \n",
       "238927                0.143  ...           NaN                  15.950   \n",
       "237773                2.143  ...           NaN                     NaN   \n",
       "421452                0.000  ...           NaN                     NaN   \n",
       "39250                 0.000  ...          12.3                  11.035   \n",
       "\n",
       "        hospital_beds_per_thousand  life_expectancy  human_development_index  \\\n",
       "146060                       4.210            82.24                    0.888   \n",
       "274233                         NaN            54.69                    0.539   \n",
       "312816                         NaN            80.48                      NaN   \n",
       "252536                       3.861            76.88                    0.829   \n",
       "132139                         NaN            79.95                      NaN   \n",
       "201076                       2.000            75.49                    0.806   \n",
       "238927                         NaN            64.92                    0.546   \n",
       "237773                         NaN            82.54                      NaN   \n",
       "421452                         NaN            79.94                      NaN   \n",
       "39250                        0.500            61.77                    0.545   \n",
       "\n",
       "        population  excess_mortality_cumulative_absolute  \\\n",
       "146060    10384972                                   NaN   \n",
       "274233   218541216                                   NaN   \n",
       "312816      974062                                   NaN   \n",
       "252536      627082                                   NaN   \n",
       "132139      304568                            -51.399998   \n",
       "201076     4268886                                   NaN   \n",
       "238927     4736146                                   NaN   \n",
       "237773      367512                                   NaN   \n",
       "421452       11596                                   NaN   \n",
       "39250     13352864                                   NaN   \n",
       "\n",
       "        excess_mortality_cumulative  excess_mortality  \\\n",
       "146060                          NaN               NaN   \n",
       "274233                          NaN               NaN   \n",
       "312816                          NaN               NaN   \n",
       "252536                          NaN               NaN   \n",
       "132139                       -17.46             -43.4   \n",
       "201076                          NaN               NaN   \n",
       "238927                          NaN               NaN   \n",
       "237773                          NaN               NaN   \n",
       "421452                          NaN               NaN   \n",
       "39250                           NaN               NaN   \n",
       "\n",
       "        excess_mortality_cumulative_per_million  \n",
       "146060                                      NaN  \n",
       "274233                                      NaN  \n",
       "312816                                      NaN  \n",
       "252536                                      NaN  \n",
       "132139                               -176.64565  \n",
       "201076                                      NaN  \n",
       "238927                                      NaN  \n",
       "237773                                      NaN  \n",
       "421452                                      NaN  \n",
       "39250                                       NaN  \n",
       "\n",
       "[10 rows x 67 columns]"
      ]
     },
     "execution_count": 4,
     "metadata": {},
     "output_type": "execute_result"
    }
   ],
   "source": [
    "covid.sample(10) #Visualizzo 15 righe casuali del dataframe"
   ]
  },
  {
   "cell_type": "code",
   "execution_count": 5,
   "id": "e74b57df-4a3c-4a0f-83f8-6037006836a7",
   "metadata": {},
   "outputs": [
    {
     "data": {
      "text/html": [
       "<div>\n",
       "<style scoped>\n",
       "    .dataframe tbody tr th:only-of-type {\n",
       "        vertical-align: middle;\n",
       "    }\n",
       "\n",
       "    .dataframe tbody tr th {\n",
       "        vertical-align: top;\n",
       "    }\n",
       "\n",
       "    .dataframe thead th {\n",
       "        text-align: right;\n",
       "    }\n",
       "</style>\n",
       "<table border=\"1\" class=\"dataframe\">\n",
       "  <thead>\n",
       "    <tr style=\"text-align: right;\">\n",
       "      <th></th>\n",
       "      <th>total_cases</th>\n",
       "      <th>new_cases</th>\n",
       "      <th>new_cases_smoothed</th>\n",
       "      <th>total_deaths</th>\n",
       "      <th>new_deaths</th>\n",
       "      <th>new_deaths_smoothed</th>\n",
       "      <th>total_cases_per_million</th>\n",
       "      <th>new_cases_per_million</th>\n",
       "      <th>new_cases_smoothed_per_million</th>\n",
       "      <th>total_deaths_per_million</th>\n",
       "      <th>...</th>\n",
       "      <th>male_smokers</th>\n",
       "      <th>handwashing_facilities</th>\n",
       "      <th>hospital_beds_per_thousand</th>\n",
       "      <th>life_expectancy</th>\n",
       "      <th>human_development_index</th>\n",
       "      <th>population</th>\n",
       "      <th>excess_mortality_cumulative_absolute</th>\n",
       "      <th>excess_mortality_cumulative</th>\n",
       "      <th>excess_mortality</th>\n",
       "      <th>excess_mortality_cumulative_per_million</th>\n",
       "    </tr>\n",
       "  </thead>\n",
       "  <tbody>\n",
       "    <tr>\n",
       "      <th>count</th>\n",
       "      <td>4.118040e+05</td>\n",
       "      <td>4.101590e+05</td>\n",
       "      <td>4.089290e+05</td>\n",
       "      <td>4.118040e+05</td>\n",
       "      <td>410608.000000</td>\n",
       "      <td>409378.000000</td>\n",
       "      <td>411804.000000</td>\n",
       "      <td>410159.000000</td>\n",
       "      <td>408929.000000</td>\n",
       "      <td>411804.000000</td>\n",
       "      <td>...</td>\n",
       "      <td>243817.000000</td>\n",
       "      <td>161741.000000</td>\n",
       "      <td>290689.000000</td>\n",
       "      <td>390299.000000</td>\n",
       "      <td>319127.000000</td>\n",
       "      <td>4.294350e+05</td>\n",
       "      <td>1.341100e+04</td>\n",
       "      <td>13411.000000</td>\n",
       "      <td>13411.000000</td>\n",
       "      <td>13411.000000</td>\n",
       "    </tr>\n",
       "    <tr>\n",
       "      <th>mean</th>\n",
       "      <td>7.365292e+06</td>\n",
       "      <td>8.017360e+03</td>\n",
       "      <td>8.041026e+03</td>\n",
       "      <td>8.125957e+04</td>\n",
       "      <td>71.852139</td>\n",
       "      <td>72.060873</td>\n",
       "      <td>112096.199396</td>\n",
       "      <td>122.357074</td>\n",
       "      <td>122.713844</td>\n",
       "      <td>835.514313</td>\n",
       "      <td>...</td>\n",
       "      <td>33.097723</td>\n",
       "      <td>50.649264</td>\n",
       "      <td>3.106912</td>\n",
       "      <td>73.702098</td>\n",
       "      <td>0.722139</td>\n",
       "      <td>1.520336e+08</td>\n",
       "      <td>5.604765e+04</td>\n",
       "      <td>9.766431</td>\n",
       "      <td>10.925353</td>\n",
       "      <td>1772.666400</td>\n",
       "    </tr>\n",
       "    <tr>\n",
       "      <th>std</th>\n",
       "      <td>4.477582e+07</td>\n",
       "      <td>2.296649e+05</td>\n",
       "      <td>8.661611e+04</td>\n",
       "      <td>4.411901e+05</td>\n",
       "      <td>1368.322990</td>\n",
       "      <td>513.636567</td>\n",
       "      <td>162240.412419</td>\n",
       "      <td>1508.778583</td>\n",
       "      <td>559.701638</td>\n",
       "      <td>1134.932671</td>\n",
       "      <td>...</td>\n",
       "      <td>13.853948</td>\n",
       "      <td>31.905375</td>\n",
       "      <td>2.549205</td>\n",
       "      <td>7.387914</td>\n",
       "      <td>0.148903</td>\n",
       "      <td>6.975408e+08</td>\n",
       "      <td>1.568691e+05</td>\n",
       "      <td>12.040658</td>\n",
       "      <td>24.560706</td>\n",
       "      <td>1991.892769</td>\n",
       "    </tr>\n",
       "    <tr>\n",
       "      <th>min</th>\n",
       "      <td>0.000000e+00</td>\n",
       "      <td>0.000000e+00</td>\n",
       "      <td>0.000000e+00</td>\n",
       "      <td>0.000000e+00</td>\n",
       "      <td>0.000000</td>\n",
       "      <td>0.000000</td>\n",
       "      <td>0.000000</td>\n",
       "      <td>0.000000</td>\n",
       "      <td>0.000000</td>\n",
       "      <td>0.000000</td>\n",
       "      <td>...</td>\n",
       "      <td>7.700000</td>\n",
       "      <td>1.188000</td>\n",
       "      <td>0.100000</td>\n",
       "      <td>53.280000</td>\n",
       "      <td>0.394000</td>\n",
       "      <td>4.700000e+01</td>\n",
       "      <td>-3.772610e+04</td>\n",
       "      <td>-44.230000</td>\n",
       "      <td>-95.920000</td>\n",
       "      <td>-2936.453100</td>\n",
       "    </tr>\n",
       "    <tr>\n",
       "      <th>25%</th>\n",
       "      <td>6.280750e+03</td>\n",
       "      <td>0.000000e+00</td>\n",
       "      <td>0.000000e+00</td>\n",
       "      <td>4.300000e+01</td>\n",
       "      <td>0.000000</td>\n",
       "      <td>0.000000</td>\n",
       "      <td>1916.100500</td>\n",
       "      <td>0.000000</td>\n",
       "      <td>0.000000</td>\n",
       "      <td>24.568000</td>\n",
       "      <td>...</td>\n",
       "      <td>22.600000</td>\n",
       "      <td>20.859000</td>\n",
       "      <td>1.300000</td>\n",
       "      <td>69.500000</td>\n",
       "      <td>0.602000</td>\n",
       "      <td>5.237980e+05</td>\n",
       "      <td>1.765000e+02</td>\n",
       "      <td>2.060000</td>\n",
       "      <td>-1.500000</td>\n",
       "      <td>116.872242</td>\n",
       "    </tr>\n",
       "    <tr>\n",
       "      <th>50%</th>\n",
       "      <td>6.365300e+04</td>\n",
       "      <td>0.000000e+00</td>\n",
       "      <td>1.200000e+01</td>\n",
       "      <td>7.990000e+02</td>\n",
       "      <td>0.000000</td>\n",
       "      <td>0.000000</td>\n",
       "      <td>29145.475000</td>\n",
       "      <td>0.000000</td>\n",
       "      <td>2.794000</td>\n",
       "      <td>295.089000</td>\n",
       "      <td>...</td>\n",
       "      <td>33.100000</td>\n",
       "      <td>49.542000</td>\n",
       "      <td>2.500000</td>\n",
       "      <td>75.050000</td>\n",
       "      <td>0.740000</td>\n",
       "      <td>6.336393e+06</td>\n",
       "      <td>6.815199e+03</td>\n",
       "      <td>8.130000</td>\n",
       "      <td>5.660000</td>\n",
       "      <td>1270.801400</td>\n",
       "    </tr>\n",
       "    <tr>\n",
       "      <th>75%</th>\n",
       "      <td>7.582720e+05</td>\n",
       "      <td>0.000000e+00</td>\n",
       "      <td>3.132860e+02</td>\n",
       "      <td>9.574000e+03</td>\n",
       "      <td>0.000000</td>\n",
       "      <td>3.143000</td>\n",
       "      <td>156770.190000</td>\n",
       "      <td>0.000000</td>\n",
       "      <td>56.253000</td>\n",
       "      <td>1283.817000</td>\n",
       "      <td>...</td>\n",
       "      <td>41.500000</td>\n",
       "      <td>82.502000</td>\n",
       "      <td>4.210000</td>\n",
       "      <td>79.460000</td>\n",
       "      <td>0.829000</td>\n",
       "      <td>3.296952e+07</td>\n",
       "      <td>3.912804e+04</td>\n",
       "      <td>15.160000</td>\n",
       "      <td>15.575000</td>\n",
       "      <td>2883.024150</td>\n",
       "    </tr>\n",
       "    <tr>\n",
       "      <th>max</th>\n",
       "      <td>7.758668e+08</td>\n",
       "      <td>4.423623e+07</td>\n",
       "      <td>6.319461e+06</td>\n",
       "      <td>7.057132e+06</td>\n",
       "      <td>103719.000000</td>\n",
       "      <td>14817.000000</td>\n",
       "      <td>763598.600000</td>\n",
       "      <td>241758.230000</td>\n",
       "      <td>34536.890000</td>\n",
       "      <td>6601.110000</td>\n",
       "      <td>...</td>\n",
       "      <td>78.100000</td>\n",
       "      <td>100.000000</td>\n",
       "      <td>13.800000</td>\n",
       "      <td>86.750000</td>\n",
       "      <td>0.957000</td>\n",
       "      <td>7.975105e+09</td>\n",
       "      <td>1.349776e+06</td>\n",
       "      <td>78.080000</td>\n",
       "      <td>378.220000</td>\n",
       "      <td>10293.515000</td>\n",
       "    </tr>\n",
       "  </tbody>\n",
       "</table>\n",
       "<p>8 rows × 62 columns</p>\n",
       "</div>"
      ],
      "text/plain": [
       "        total_cases     new_cases  new_cases_smoothed  total_deaths  \\\n",
       "count  4.118040e+05  4.101590e+05        4.089290e+05  4.118040e+05   \n",
       "mean   7.365292e+06  8.017360e+03        8.041026e+03  8.125957e+04   \n",
       "std    4.477582e+07  2.296649e+05        8.661611e+04  4.411901e+05   \n",
       "min    0.000000e+00  0.000000e+00        0.000000e+00  0.000000e+00   \n",
       "25%    6.280750e+03  0.000000e+00        0.000000e+00  4.300000e+01   \n",
       "50%    6.365300e+04  0.000000e+00        1.200000e+01  7.990000e+02   \n",
       "75%    7.582720e+05  0.000000e+00        3.132860e+02  9.574000e+03   \n",
       "max    7.758668e+08  4.423623e+07        6.319461e+06  7.057132e+06   \n",
       "\n",
       "          new_deaths  new_deaths_smoothed  total_cases_per_million  \\\n",
       "count  410608.000000        409378.000000            411804.000000   \n",
       "mean       71.852139            72.060873            112096.199396   \n",
       "std      1368.322990           513.636567            162240.412419   \n",
       "min         0.000000             0.000000                 0.000000   \n",
       "25%         0.000000             0.000000              1916.100500   \n",
       "50%         0.000000             0.000000             29145.475000   \n",
       "75%         0.000000             3.143000            156770.190000   \n",
       "max    103719.000000         14817.000000            763598.600000   \n",
       "\n",
       "       new_cases_per_million  new_cases_smoothed_per_million  \\\n",
       "count          410159.000000                   408929.000000   \n",
       "mean              122.357074                      122.713844   \n",
       "std              1508.778583                      559.701638   \n",
       "min                 0.000000                        0.000000   \n",
       "25%                 0.000000                        0.000000   \n",
       "50%                 0.000000                        2.794000   \n",
       "75%                 0.000000                       56.253000   \n",
       "max            241758.230000                    34536.890000   \n",
       "\n",
       "       total_deaths_per_million  ...   male_smokers  handwashing_facilities  \\\n",
       "count             411804.000000  ...  243817.000000           161741.000000   \n",
       "mean                 835.514313  ...      33.097723               50.649264   \n",
       "std                 1134.932671  ...      13.853948               31.905375   \n",
       "min                    0.000000  ...       7.700000                1.188000   \n",
       "25%                   24.568000  ...      22.600000               20.859000   \n",
       "50%                  295.089000  ...      33.100000               49.542000   \n",
       "75%                 1283.817000  ...      41.500000               82.502000   \n",
       "max                 6601.110000  ...      78.100000              100.000000   \n",
       "\n",
       "       hospital_beds_per_thousand  life_expectancy  human_development_index  \\\n",
       "count               290689.000000    390299.000000            319127.000000   \n",
       "mean                     3.106912        73.702098                 0.722139   \n",
       "std                      2.549205         7.387914                 0.148903   \n",
       "min                      0.100000        53.280000                 0.394000   \n",
       "25%                      1.300000        69.500000                 0.602000   \n",
       "50%                      2.500000        75.050000                 0.740000   \n",
       "75%                      4.210000        79.460000                 0.829000   \n",
       "max                     13.800000        86.750000                 0.957000   \n",
       "\n",
       "         population  excess_mortality_cumulative_absolute  \\\n",
       "count  4.294350e+05                          1.341100e+04   \n",
       "mean   1.520336e+08                          5.604765e+04   \n",
       "std    6.975408e+08                          1.568691e+05   \n",
       "min    4.700000e+01                         -3.772610e+04   \n",
       "25%    5.237980e+05                          1.765000e+02   \n",
       "50%    6.336393e+06                          6.815199e+03   \n",
       "75%    3.296952e+07                          3.912804e+04   \n",
       "max    7.975105e+09                          1.349776e+06   \n",
       "\n",
       "       excess_mortality_cumulative  excess_mortality  \\\n",
       "count                 13411.000000      13411.000000   \n",
       "mean                      9.766431         10.925353   \n",
       "std                      12.040658         24.560706   \n",
       "min                     -44.230000        -95.920000   \n",
       "25%                       2.060000         -1.500000   \n",
       "50%                       8.130000          5.660000   \n",
       "75%                      15.160000         15.575000   \n",
       "max                      78.080000        378.220000   \n",
       "\n",
       "       excess_mortality_cumulative_per_million  \n",
       "count                             13411.000000  \n",
       "mean                               1772.666400  \n",
       "std                                1991.892769  \n",
       "min                               -2936.453100  \n",
       "25%                                 116.872242  \n",
       "50%                                1270.801400  \n",
       "75%                                2883.024150  \n",
       "max                               10293.515000  \n",
       "\n",
       "[8 rows x 62 columns]"
      ]
     },
     "execution_count": 5,
     "metadata": {},
     "output_type": "execute_result"
    }
   ],
   "source": [
    "covid.describe() #Visualizzo le statistiche del dataframe"
   ]
  },
  {
   "cell_type": "code",
   "execution_count": 6,
   "id": "f25e457d-e1d8-4fdb-8448-20001c0fe149",
   "metadata": {},
   "outputs": [
    {
     "data": {
      "text/plain": [
       "iso_code                                        0\n",
       "continent                                   26525\n",
       "location                                        0\n",
       "date                                            0\n",
       "total_cases                                 17631\n",
       "                                            ...  \n",
       "population                                      0\n",
       "excess_mortality_cumulative_absolute       416024\n",
       "excess_mortality_cumulative                416024\n",
       "excess_mortality                           416024\n",
       "excess_mortality_cumulative_per_million    416024\n",
       "Length: 67, dtype: int64"
      ]
     },
     "execution_count": 6,
     "metadata": {},
     "output_type": "execute_result"
    }
   ],
   "source": [
    "covid.isnull().sum() #Visualizzo i valori nulli del dataframe"
   ]
  },
  {
   "cell_type": "code",
   "execution_count": 7,
   "id": "cbff38f0-bbd3-4abb-9c0d-73553027953b",
   "metadata": {},
   "outputs": [
    {
     "data": {
      "text/html": [
       "<div>\n",
       "<style scoped>\n",
       "    .dataframe tbody tr th:only-of-type {\n",
       "        vertical-align: middle;\n",
       "    }\n",
       "\n",
       "    .dataframe tbody tr th {\n",
       "        vertical-align: top;\n",
       "    }\n",
       "\n",
       "    .dataframe thead th {\n",
       "        text-align: right;\n",
       "    }\n",
       "</style>\n",
       "<table border=\"1\" class=\"dataframe\">\n",
       "  <thead>\n",
       "    <tr style=\"text-align: right;\">\n",
       "      <th></th>\n",
       "      <th>iso_code</th>\n",
       "      <th>continent</th>\n",
       "      <th>location</th>\n",
       "      <th>date</th>\n",
       "      <th>total_cases</th>\n",
       "      <th>new_cases</th>\n",
       "      <th>new_cases_smoothed</th>\n",
       "      <th>total_deaths</th>\n",
       "      <th>new_deaths</th>\n",
       "      <th>new_deaths_smoothed</th>\n",
       "      <th>...</th>\n",
       "      <th>male_smokers</th>\n",
       "      <th>handwashing_facilities</th>\n",
       "      <th>hospital_beds_per_thousand</th>\n",
       "      <th>life_expectancy</th>\n",
       "      <th>human_development_index</th>\n",
       "      <th>population</th>\n",
       "      <th>excess_mortality_cumulative_absolute</th>\n",
       "      <th>excess_mortality_cumulative</th>\n",
       "      <th>excess_mortality</th>\n",
       "      <th>excess_mortality_cumulative_per_million</th>\n",
       "    </tr>\n",
       "  </thead>\n",
       "  <tbody>\n",
       "    <tr>\n",
       "      <th>1674</th>\n",
       "      <td>OWID_AFR</td>\n",
       "      <td>NaN</td>\n",
       "      <td>Africa</td>\n",
       "      <td>2020-01-05</td>\n",
       "      <td>0.0</td>\n",
       "      <td>0.0</td>\n",
       "      <td>NaN</td>\n",
       "      <td>0.0</td>\n",
       "      <td>0.0</td>\n",
       "      <td>NaN</td>\n",
       "      <td>...</td>\n",
       "      <td>NaN</td>\n",
       "      <td>NaN</td>\n",
       "      <td>NaN</td>\n",
       "      <td>NaN</td>\n",
       "      <td>NaN</td>\n",
       "      <td>1426736614</td>\n",
       "      <td>NaN</td>\n",
       "      <td>NaN</td>\n",
       "      <td>NaN</td>\n",
       "      <td>NaN</td>\n",
       "    </tr>\n",
       "    <tr>\n",
       "      <th>1675</th>\n",
       "      <td>OWID_AFR</td>\n",
       "      <td>NaN</td>\n",
       "      <td>Africa</td>\n",
       "      <td>2020-01-06</td>\n",
       "      <td>0.0</td>\n",
       "      <td>0.0</td>\n",
       "      <td>NaN</td>\n",
       "      <td>0.0</td>\n",
       "      <td>0.0</td>\n",
       "      <td>NaN</td>\n",
       "      <td>...</td>\n",
       "      <td>NaN</td>\n",
       "      <td>NaN</td>\n",
       "      <td>NaN</td>\n",
       "      <td>NaN</td>\n",
       "      <td>NaN</td>\n",
       "      <td>1426736614</td>\n",
       "      <td>NaN</td>\n",
       "      <td>NaN</td>\n",
       "      <td>NaN</td>\n",
       "      <td>NaN</td>\n",
       "    </tr>\n",
       "    <tr>\n",
       "      <th>1676</th>\n",
       "      <td>OWID_AFR</td>\n",
       "      <td>NaN</td>\n",
       "      <td>Africa</td>\n",
       "      <td>2020-01-07</td>\n",
       "      <td>0.0</td>\n",
       "      <td>0.0</td>\n",
       "      <td>NaN</td>\n",
       "      <td>0.0</td>\n",
       "      <td>0.0</td>\n",
       "      <td>NaN</td>\n",
       "      <td>...</td>\n",
       "      <td>NaN</td>\n",
       "      <td>NaN</td>\n",
       "      <td>NaN</td>\n",
       "      <td>NaN</td>\n",
       "      <td>NaN</td>\n",
       "      <td>1426736614</td>\n",
       "      <td>NaN</td>\n",
       "      <td>NaN</td>\n",
       "      <td>NaN</td>\n",
       "      <td>NaN</td>\n",
       "    </tr>\n",
       "    <tr>\n",
       "      <th>1677</th>\n",
       "      <td>OWID_AFR</td>\n",
       "      <td>NaN</td>\n",
       "      <td>Africa</td>\n",
       "      <td>2020-01-08</td>\n",
       "      <td>0.0</td>\n",
       "      <td>0.0</td>\n",
       "      <td>NaN</td>\n",
       "      <td>0.0</td>\n",
       "      <td>0.0</td>\n",
       "      <td>NaN</td>\n",
       "      <td>...</td>\n",
       "      <td>NaN</td>\n",
       "      <td>NaN</td>\n",
       "      <td>NaN</td>\n",
       "      <td>NaN</td>\n",
       "      <td>NaN</td>\n",
       "      <td>1426736614</td>\n",
       "      <td>NaN</td>\n",
       "      <td>NaN</td>\n",
       "      <td>NaN</td>\n",
       "      <td>NaN</td>\n",
       "    </tr>\n",
       "    <tr>\n",
       "      <th>1678</th>\n",
       "      <td>OWID_AFR</td>\n",
       "      <td>NaN</td>\n",
       "      <td>Africa</td>\n",
       "      <td>2020-01-09</td>\n",
       "      <td>0.0</td>\n",
       "      <td>0.0</td>\n",
       "      <td>NaN</td>\n",
       "      <td>0.0</td>\n",
       "      <td>0.0</td>\n",
       "      <td>NaN</td>\n",
       "      <td>...</td>\n",
       "      <td>NaN</td>\n",
       "      <td>NaN</td>\n",
       "      <td>NaN</td>\n",
       "      <td>NaN</td>\n",
       "      <td>NaN</td>\n",
       "      <td>1426736614</td>\n",
       "      <td>NaN</td>\n",
       "      <td>NaN</td>\n",
       "      <td>NaN</td>\n",
       "      <td>NaN</td>\n",
       "    </tr>\n",
       "    <tr>\n",
       "      <th>...</th>\n",
       "      <td>...</td>\n",
       "      <td>...</td>\n",
       "      <td>...</td>\n",
       "      <td>...</td>\n",
       "      <td>...</td>\n",
       "      <td>...</td>\n",
       "      <td>...</td>\n",
       "      <td>...</td>\n",
       "      <td>...</td>\n",
       "      <td>...</td>\n",
       "      <td>...</td>\n",
       "      <td>...</td>\n",
       "      <td>...</td>\n",
       "      <td>...</td>\n",
       "      <td>...</td>\n",
       "      <td>...</td>\n",
       "      <td>...</td>\n",
       "      <td>...</td>\n",
       "      <td>...</td>\n",
       "      <td>...</td>\n",
       "      <td>...</td>\n",
       "    </tr>\n",
       "    <tr>\n",
       "      <th>424408</th>\n",
       "      <td>OWID_WRL</td>\n",
       "      <td>NaN</td>\n",
       "      <td>World</td>\n",
       "      <td>2024-08-10</td>\n",
       "      <td>NaN</td>\n",
       "      <td>NaN</td>\n",
       "      <td>NaN</td>\n",
       "      <td>NaN</td>\n",
       "      <td>NaN</td>\n",
       "      <td>NaN</td>\n",
       "      <td>...</td>\n",
       "      <td>34.635</td>\n",
       "      <td>60.13</td>\n",
       "      <td>2.705</td>\n",
       "      <td>72.58</td>\n",
       "      <td>0.737</td>\n",
       "      <td>7975105024</td>\n",
       "      <td>NaN</td>\n",
       "      <td>NaN</td>\n",
       "      <td>NaN</td>\n",
       "      <td>NaN</td>\n",
       "    </tr>\n",
       "    <tr>\n",
       "      <th>424409</th>\n",
       "      <td>OWID_WRL</td>\n",
       "      <td>NaN</td>\n",
       "      <td>World</td>\n",
       "      <td>2024-08-11</td>\n",
       "      <td>NaN</td>\n",
       "      <td>NaN</td>\n",
       "      <td>NaN</td>\n",
       "      <td>NaN</td>\n",
       "      <td>NaN</td>\n",
       "      <td>NaN</td>\n",
       "      <td>...</td>\n",
       "      <td>34.635</td>\n",
       "      <td>60.13</td>\n",
       "      <td>2.705</td>\n",
       "      <td>72.58</td>\n",
       "      <td>0.737</td>\n",
       "      <td>7975105024</td>\n",
       "      <td>NaN</td>\n",
       "      <td>NaN</td>\n",
       "      <td>NaN</td>\n",
       "      <td>NaN</td>\n",
       "    </tr>\n",
       "    <tr>\n",
       "      <th>424410</th>\n",
       "      <td>OWID_WRL</td>\n",
       "      <td>NaN</td>\n",
       "      <td>World</td>\n",
       "      <td>2024-08-12</td>\n",
       "      <td>NaN</td>\n",
       "      <td>NaN</td>\n",
       "      <td>NaN</td>\n",
       "      <td>NaN</td>\n",
       "      <td>NaN</td>\n",
       "      <td>NaN</td>\n",
       "      <td>...</td>\n",
       "      <td>34.635</td>\n",
       "      <td>60.13</td>\n",
       "      <td>2.705</td>\n",
       "      <td>72.58</td>\n",
       "      <td>0.737</td>\n",
       "      <td>7975105024</td>\n",
       "      <td>NaN</td>\n",
       "      <td>NaN</td>\n",
       "      <td>NaN</td>\n",
       "      <td>NaN</td>\n",
       "    </tr>\n",
       "    <tr>\n",
       "      <th>424411</th>\n",
       "      <td>OWID_WRL</td>\n",
       "      <td>NaN</td>\n",
       "      <td>World</td>\n",
       "      <td>2024-08-13</td>\n",
       "      <td>NaN</td>\n",
       "      <td>NaN</td>\n",
       "      <td>NaN</td>\n",
       "      <td>NaN</td>\n",
       "      <td>NaN</td>\n",
       "      <td>NaN</td>\n",
       "      <td>...</td>\n",
       "      <td>34.635</td>\n",
       "      <td>60.13</td>\n",
       "      <td>2.705</td>\n",
       "      <td>72.58</td>\n",
       "      <td>0.737</td>\n",
       "      <td>7975105024</td>\n",
       "      <td>NaN</td>\n",
       "      <td>NaN</td>\n",
       "      <td>NaN</td>\n",
       "      <td>NaN</td>\n",
       "    </tr>\n",
       "    <tr>\n",
       "      <th>424412</th>\n",
       "      <td>OWID_WRL</td>\n",
       "      <td>NaN</td>\n",
       "      <td>World</td>\n",
       "      <td>2024-08-14</td>\n",
       "      <td>NaN</td>\n",
       "      <td>NaN</td>\n",
       "      <td>NaN</td>\n",
       "      <td>NaN</td>\n",
       "      <td>NaN</td>\n",
       "      <td>NaN</td>\n",
       "      <td>...</td>\n",
       "      <td>34.635</td>\n",
       "      <td>60.13</td>\n",
       "      <td>2.705</td>\n",
       "      <td>72.58</td>\n",
       "      <td>0.737</td>\n",
       "      <td>7975105024</td>\n",
       "      <td>NaN</td>\n",
       "      <td>NaN</td>\n",
       "      <td>NaN</td>\n",
       "      <td>NaN</td>\n",
       "    </tr>\n",
       "  </tbody>\n",
       "</table>\n",
       "<p>26525 rows × 67 columns</p>\n",
       "</div>"
      ],
      "text/plain": [
       "        iso_code continent location        date  total_cases  new_cases  \\\n",
       "1674    OWID_AFR       NaN   Africa  2020-01-05          0.0        0.0   \n",
       "1675    OWID_AFR       NaN   Africa  2020-01-06          0.0        0.0   \n",
       "1676    OWID_AFR       NaN   Africa  2020-01-07          0.0        0.0   \n",
       "1677    OWID_AFR       NaN   Africa  2020-01-08          0.0        0.0   \n",
       "1678    OWID_AFR       NaN   Africa  2020-01-09          0.0        0.0   \n",
       "...          ...       ...      ...         ...          ...        ...   \n",
       "424408  OWID_WRL       NaN    World  2024-08-10          NaN        NaN   \n",
       "424409  OWID_WRL       NaN    World  2024-08-11          NaN        NaN   \n",
       "424410  OWID_WRL       NaN    World  2024-08-12          NaN        NaN   \n",
       "424411  OWID_WRL       NaN    World  2024-08-13          NaN        NaN   \n",
       "424412  OWID_WRL       NaN    World  2024-08-14          NaN        NaN   \n",
       "\n",
       "        new_cases_smoothed  total_deaths  new_deaths  new_deaths_smoothed  \\\n",
       "1674                   NaN           0.0         0.0                  NaN   \n",
       "1675                   NaN           0.0         0.0                  NaN   \n",
       "1676                   NaN           0.0         0.0                  NaN   \n",
       "1677                   NaN           0.0         0.0                  NaN   \n",
       "1678                   NaN           0.0         0.0                  NaN   \n",
       "...                    ...           ...         ...                  ...   \n",
       "424408                 NaN           NaN         NaN                  NaN   \n",
       "424409                 NaN           NaN         NaN                  NaN   \n",
       "424410                 NaN           NaN         NaN                  NaN   \n",
       "424411                 NaN           NaN         NaN                  NaN   \n",
       "424412                 NaN           NaN         NaN                  NaN   \n",
       "\n",
       "        ...  male_smokers  handwashing_facilities  hospital_beds_per_thousand  \\\n",
       "1674    ...           NaN                     NaN                         NaN   \n",
       "1675    ...           NaN                     NaN                         NaN   \n",
       "1676    ...           NaN                     NaN                         NaN   \n",
       "1677    ...           NaN                     NaN                         NaN   \n",
       "1678    ...           NaN                     NaN                         NaN   \n",
       "...     ...           ...                     ...                         ...   \n",
       "424408  ...        34.635                   60.13                       2.705   \n",
       "424409  ...        34.635                   60.13                       2.705   \n",
       "424410  ...        34.635                   60.13                       2.705   \n",
       "424411  ...        34.635                   60.13                       2.705   \n",
       "424412  ...        34.635                   60.13                       2.705   \n",
       "\n",
       "        life_expectancy  human_development_index  population  \\\n",
       "1674                NaN                      NaN  1426736614   \n",
       "1675                NaN                      NaN  1426736614   \n",
       "1676                NaN                      NaN  1426736614   \n",
       "1677                NaN                      NaN  1426736614   \n",
       "1678                NaN                      NaN  1426736614   \n",
       "...                 ...                      ...         ...   \n",
       "424408            72.58                    0.737  7975105024   \n",
       "424409            72.58                    0.737  7975105024   \n",
       "424410            72.58                    0.737  7975105024   \n",
       "424411            72.58                    0.737  7975105024   \n",
       "424412            72.58                    0.737  7975105024   \n",
       "\n",
       "        excess_mortality_cumulative_absolute  excess_mortality_cumulative  \\\n",
       "1674                                     NaN                          NaN   \n",
       "1675                                     NaN                          NaN   \n",
       "1676                                     NaN                          NaN   \n",
       "1677                                     NaN                          NaN   \n",
       "1678                                     NaN                          NaN   \n",
       "...                                      ...                          ...   \n",
       "424408                                   NaN                          NaN   \n",
       "424409                                   NaN                          NaN   \n",
       "424410                                   NaN                          NaN   \n",
       "424411                                   NaN                          NaN   \n",
       "424412                                   NaN                          NaN   \n",
       "\n",
       "        excess_mortality  excess_mortality_cumulative_per_million  \n",
       "1674                 NaN                                      NaN  \n",
       "1675                 NaN                                      NaN  \n",
       "1676                 NaN                                      NaN  \n",
       "1677                 NaN                                      NaN  \n",
       "1678                 NaN                                      NaN  \n",
       "...                  ...                                      ...  \n",
       "424408               NaN                                      NaN  \n",
       "424409               NaN                                      NaN  \n",
       "424410               NaN                                      NaN  \n",
       "424411               NaN                                      NaN  \n",
       "424412               NaN                                      NaN  \n",
       "\n",
       "[26525 rows x 67 columns]"
      ]
     },
     "execution_count": 7,
     "metadata": {},
     "output_type": "execute_result"
    }
   ],
   "source": [
    "covid[covid[\"continent\"].isnull()] #Visualizzo i valori nulli della colonna continent"
   ]
  },
  {
   "cell_type": "markdown",
   "id": "8f1a4ab5-7f7a-4741-b1c0-33b4a355a313",
   "metadata": {},
   "source": [
    "2.Si chiede di trovare, per ogni continente: "
   ]
  },
  {
   "cell_type": "markdown",
   "id": "030627a6-42ac-4747-98a4-b6d8fc9ab83f",
   "metadata": {},
   "source": [
    "2a. il numero di casi fin dall'inizio della pandemia"
   ]
  },
  {
   "cell_type": "code",
   "execution_count": 8,
   "id": "3886c19a-852a-4684-953a-24e79bf70bdf",
   "metadata": {},
   "outputs": [
    {
     "name": "stdout",
     "output_type": "stream",
     "text": [
      "continent\n",
      "Asia             301564180.0\n",
      "Europe           252916868.0\n",
      "North America    124492698.0\n",
      "South America     68811012.0\n",
      "Oceania           15003468.0\n",
      "Africa            13146831.0\n",
      "Name: new_cases, dtype: float64\n"
     ]
    }
   ],
   "source": [
    "Numero_casi_continente = covid.groupby([\"continent\"])[\"new_cases\"].sum().sort_values(ascending=False) #Calcolo il numero totale di casi per continente\n",
    "print(Numero_casi_continente)"
   ]
  },
  {
   "cell_type": "markdown",
   "id": "962e12fb-637f-4dd5-bc25-84218251aef4",
   "metadata": {},
   "source": [
    "2b. la percentuale rispetto al totale mondiale del numero di casi"
   ]
  },
  {
   "cell_type": "code",
   "execution_count": 9,
   "id": "e2072667-05e5-4d24-899d-aa72b904c5bd",
   "metadata": {},
   "outputs": [
    {
     "name": "stdout",
     "output_type": "stream",
     "text": [
      "Il Totale Mondiale è: 775935057.0\n",
      "continent\n",
      "Asia             38.864616\n",
      "Europe           32.595108\n",
      "North America    16.044216\n",
      "South America     8.868141\n",
      "Oceania           1.933598\n",
      "Africa            1.694321\n",
      "Name: new_cases, dtype: float64\n"
     ]
    }
   ],
   "source": [
    "Mondo = covid['location'] == 'World' #Filtro il dataframe per la colonna location uguale a World\n",
    "dati_mondiali = covid[Mondo] #Creo un nuovo dataframe con i dati mondiali\n",
    "Totale_mondiale = dati_mondiali['new_cases'].sum() #Calcolo il totale mondiale dei casi\n",
    "print(\"Il Totale Mondiale è:\",Totale_mondiale)\n",
    "Percentuale_mondiali = (Numero_casi_continente/Totale_mondiale)*100 #Calcolo la percentuale dei casi per continente rispetto al totale mondiale\n",
    "print(Percentuale_mondiali)"
   ]
  },
  {
   "cell_type": "markdown",
   "id": "cde85160-1181-4b9a-9ba3-154cd5d80444",
   "metadata": {},
   "source": [
    "3.Selezionare i dati relativi all'Italia nel 2022 e, poiché i nuovi casi vengono registrati settimanalmente, filtrare via i giorni che non hanno misurazioni; quindi mostrare con dei grafici adeguati: "
   ]
  },
  {
   "cell_type": "code",
   "execution_count": 10,
   "id": "491454a5-a0e4-4769-baab-322ec7d48262",
   "metadata": {},
   "outputs": [],
   "source": [
    "covid[\"date\"] = pd.to_datetime(covid[\"date\"]) #Converto la colonna \"date\" in formato datetime"
   ]
  },
  {
   "cell_type": "code",
   "execution_count": 11,
   "id": "b347337f-4204-4cd6-bcf7-e1c44c5a99eb",
   "metadata": {},
   "outputs": [],
   "source": [
    "filtro_italia2022 = covid[(covid[\"location\"] == \"Italy\") & (covid[\"date\"].dt.year == 2022)]  # Filtro il dataframe per l'Italia nel 2022"
   ]
  },
  {
   "cell_type": "code",
   "execution_count": 12,
   "id": "817b10b7-9cd3-4b4d-bf3d-b86784f86ba4",
   "metadata": {},
   "outputs": [
    {
     "data": {
      "text/plain": [
       "iso_code                                     0\n",
       "continent                                    0\n",
       "location                                     0\n",
       "date                                         0\n",
       "total_cases                                  0\n",
       "                                          ... \n",
       "population                                   0\n",
       "excess_mortality_cumulative_absolute       313\n",
       "excess_mortality_cumulative                313\n",
       "excess_mortality                           313\n",
       "excess_mortality_cumulative_per_million    313\n",
       "Length: 67, dtype: int64"
      ]
     },
     "execution_count": 12,
     "metadata": {},
     "output_type": "execute_result"
    }
   ],
   "source": [
    "filtro_italia2022.isnull().sum() #Controllo i valori nulli nel dataframe filtrato"
   ]
  },
  {
   "cell_type": "code",
   "execution_count": 13,
   "id": "8132580b-ab7e-4d05-b26c-50017c7cfc44",
   "metadata": {},
   "outputs": [
    {
     "data": {
      "text/plain": [
       "3345"
      ]
     },
     "execution_count": 13,
     "metadata": {},
     "output_type": "execute_result"
    }
   ],
   "source": [
    "filtro_italia2022.isnull().sum().sum() #Controllo i valori nulli nel dataframe filtrato"
   ]
  },
  {
   "cell_type": "code",
   "execution_count": 14,
   "id": "23e9837f-9740-433d-829a-9a17f582ed77",
   "metadata": {},
   "outputs": [
    {
     "name": "stdout",
     "output_type": "stream",
     "text": [
      "Empty DataFrame\n",
      "Columns: [new_cases]\n",
      "Index: []\n",
      "Empty DataFrame\n",
      "Columns: [total_cases]\n",
      "Index: []\n"
     ]
    }
   ],
   "source": [
    "print(filtro_italia2022.loc[filtro_italia2022[\"new_cases\"].isnull(), [\"new_cases\"]]) #Visualizzo le righe con valori nulli in new_cases\n",
    "print(filtro_italia2022.loc[filtro_italia2022[\"total_cases\"].isnull(), [\"total_cases\"]]) #Visualizzo le righe con valori nulli in total_cases"
   ]
  },
  {
   "cell_type": "code",
   "execution_count": 15,
   "id": "c2a83f8b-c64a-4565-a3b0-a991aaf1857e",
   "metadata": {},
   "outputs": [
    {
     "name": "stdout",
     "output_type": "stream",
     "text": [
      "        new_cases\n",
      "186002        0.0\n",
      "186004        0.0\n",
      "186005        0.0\n",
      "186006        0.0\n",
      "186007        0.0\n",
      "...           ...\n",
      "186362        0.0\n",
      "186363        0.0\n",
      "186364        0.0\n",
      "186365        0.0\n",
      "186366        0.0\n",
      "\n",
      "[313 rows x 1 columns]\n",
      "Empty DataFrame\n",
      "Columns: [total_cases]\n",
      "Index: []\n"
     ]
    }
   ],
   "source": [
    "print(filtro_italia2022.loc[filtro_italia2022[\"new_cases\"] == 0, [\"new_cases\"]]) #Visualizzo le righe dove new_cases è 0\n",
    "print(filtro_italia2022.loc[filtro_italia2022[\"total_cases\"] == 0, [\"total_cases\"]]) #Visualizzo le righe dove total_cases è 0"
   ]
  },
  {
   "cell_type": "code",
   "execution_count": 16,
   "id": "2e7cbd99-168d-43db-9757-8b8a89bd32c6",
   "metadata": {},
   "outputs": [],
   "source": [
    "filtro_italia2022 = filtro_italia2022[\n",
    "    (filtro_italia2022[\"new_cases\"] != 0) & \n",
    "    (filtro_italia2022[\"total_cases\"] != 0)] # Rimuovo le righe con new_cases o total_cases uguali a 0"
   ]
  },
  {
   "cell_type": "code",
   "execution_count": 17,
   "id": "bdb8241d-1f81-49b6-b610-2d0385b46e97",
   "metadata": {},
   "outputs": [
    {
     "name": "stdout",
     "output_type": "stream",
     "text": [
      "Empty DataFrame\n",
      "Columns: [new_cases]\n",
      "Index: []\n",
      "Empty DataFrame\n",
      "Columns: [total_cases]\n",
      "Index: []\n"
     ]
    }
   ],
   "source": [
    "print(filtro_italia2022.loc[filtro_italia2022[\"new_cases\"] == 0, [\"new_cases\"]]) #Controllo se gli 0 sono stati rimossi\n",
    "print(filtro_italia2022.loc[filtro_italia2022[\"total_cases\"] == 0, [\"total_cases\"]])"
   ]
  },
  {
   "cell_type": "code",
   "execution_count": 18,
   "id": "f5cddc8c-20ee-4c6e-9253-044a50696ada",
   "metadata": {},
   "outputs": [],
   "source": [
    "covid_italia2022_totali = filtro_italia2022[[\"date\", \"total_cases\"]]  # Seleziono le colonne desiderate"
   ]
  },
  {
   "cell_type": "markdown",
   "id": "119fd8bc-e8de-46bf-b5c0-c6fec048dca9",
   "metadata": {},
   "source": [
    "3a. L'evoluzione del casi totali dall'inizio alla fine dell'anno"
   ]
  },
  {
   "cell_type": "code",
   "execution_count": 19,
   "id": "7c7ae9ce-e8ca-4fbd-b28d-b4cdb41d2e07",
   "metadata": {},
   "outputs": [
    {
     "data": {
      "text/html": [
       "<div>\n",
       "<style scoped>\n",
       "    .dataframe tbody tr th:only-of-type {\n",
       "        vertical-align: middle;\n",
       "    }\n",
       "\n",
       "    .dataframe tbody tr th {\n",
       "        vertical-align: top;\n",
       "    }\n",
       "\n",
       "    .dataframe thead th {\n",
       "        text-align: right;\n",
       "    }\n",
       "</style>\n",
       "<table border=\"1\" class=\"dataframe\">\n",
       "  <thead>\n",
       "    <tr style=\"text-align: right;\">\n",
       "      <th></th>\n",
       "      <th>date</th>\n",
       "      <th>total_cases</th>\n",
       "    </tr>\n",
       "  </thead>\n",
       "  <tbody>\n",
       "    <tr>\n",
       "      <th>186129</th>\n",
       "      <td>2022-05-08</td>\n",
       "      <td>16767773.0</td>\n",
       "    </tr>\n",
       "    <tr>\n",
       "      <th>186171</th>\n",
       "      <td>2022-06-19</td>\n",
       "      <td>17844905.0</td>\n",
       "    </tr>\n",
       "    <tr>\n",
       "      <th>186213</th>\n",
       "      <td>2022-07-31</td>\n",
       "      <td>21002773.0</td>\n",
       "    </tr>\n",
       "    <tr>\n",
       "      <th>186227</th>\n",
       "      <td>2022-08-14</td>\n",
       "      <td>21480076.0</td>\n",
       "    </tr>\n",
       "    <tr>\n",
       "      <th>186241</th>\n",
       "      <td>2022-08-28</td>\n",
       "      <td>21788862.0</td>\n",
       "    </tr>\n",
       "  </tbody>\n",
       "</table>\n",
       "</div>"
      ],
      "text/plain": [
       "             date  total_cases\n",
       "186129 2022-05-08   16767773.0\n",
       "186171 2022-06-19   17844905.0\n",
       "186213 2022-07-31   21002773.0\n",
       "186227 2022-08-14   21480076.0\n",
       "186241 2022-08-28   21788862.0"
      ]
     },
     "execution_count": 19,
     "metadata": {},
     "output_type": "execute_result"
    }
   ],
   "source": [
    "covid_italia2022_totali.sample(5).sort_values(by=\"total_cases\")"
   ]
  },
  {
   "cell_type": "code",
   "execution_count": 20,
   "id": "0733b1ca-d86b-4975-ba0c-540b9c2fc0fb",
   "metadata": {},
   "outputs": [
    {
     "data": {
      "text/plain": [
       "<Axes: title={'center': 'Casi totali in Italia nel 2022'}, xlabel='date'>"
      ]
     },
     "execution_count": 20,
     "metadata": {},
     "output_type": "execute_result"
    },
    {
     "data": {
      "image/png": "[encoded data removed]",
      "text/plain": [
       "<Figure size 640x480 with 1 Axes>"
      ]
     },
     "metadata": {},
     "output_type": "display_data"
    }
   ],
   "source": [
    "covid_italia2022_totali.plot(x=\"date\", y=\"total_cases\", title=\"Casi totali in Italia nel 2022\", kind = \"line\")"
   ]
  },
  {
   "cell_type": "markdown",
   "id": "6b43cdbd-a8b4-410a-9836-3a41ed4eb7f0",
   "metadata": {},
   "source": [
    "3b. Il numero di nuovi casi rispetto alla data"
   ]
  },
  {
   "cell_type": "code",
   "execution_count": 21,
   "id": "da7d02ec-8758-4725-bf58-3c7282d96b50",
   "metadata": {},
   "outputs": [],
   "source": [
    "covid_italia2022_nuovi = filtro_italia2022[[\"date\", \"new_cases\"]]  #Seleziono le colonne desiderate"
   ]
  },
  {
   "cell_type": "code",
   "execution_count": 22,
   "id": "d387b53f-169a-4fae-91bc-9f194514e1dc",
   "metadata": {},
   "outputs": [
    {
     "data": {
      "text/html": [
       "<div>\n",
       "<style scoped>\n",
       "    .dataframe tbody tr th:only-of-type {\n",
       "        vertical-align: middle;\n",
       "    }\n",
       "\n",
       "    .dataframe tbody tr th {\n",
       "        vertical-align: top;\n",
       "    }\n",
       "\n",
       "    .dataframe thead th {\n",
       "        text-align: right;\n",
       "    }\n",
       "</style>\n",
       "<table border=\"1\" class=\"dataframe\">\n",
       "  <thead>\n",
       "    <tr style=\"text-align: right;\">\n",
       "      <th></th>\n",
       "      <th>date</th>\n",
       "      <th>new_cases</th>\n",
       "    </tr>\n",
       "  </thead>\n",
       "  <tbody>\n",
       "    <tr>\n",
       "      <th>186003</th>\n",
       "      <td>2022-01-02</td>\n",
       "      <td>644604.0</td>\n",
       "    </tr>\n",
       "    <tr>\n",
       "      <th>186101</th>\n",
       "      <td>2022-04-10</td>\n",
       "      <td>447322.0</td>\n",
       "    </tr>\n",
       "    <tr>\n",
       "      <th>186129</th>\n",
       "      <td>2022-05-08</td>\n",
       "      <td>304573.0</td>\n",
       "    </tr>\n",
       "    <tr>\n",
       "      <th>186150</th>\n",
       "      <td>2022-05-29</td>\n",
       "      <td>144478.0</td>\n",
       "    </tr>\n",
       "    <tr>\n",
       "      <th>186353</th>\n",
       "      <td>2022-12-18</td>\n",
       "      <td>174187.0</td>\n",
       "    </tr>\n",
       "  </tbody>\n",
       "</table>\n",
       "</div>"
      ],
      "text/plain": [
       "             date  new_cases\n",
       "186003 2022-01-02   644604.0\n",
       "186101 2022-04-10   447322.0\n",
       "186129 2022-05-08   304573.0\n",
       "186150 2022-05-29   144478.0\n",
       "186353 2022-12-18   174187.0"
      ]
     },
     "execution_count": 22,
     "metadata": {},
     "output_type": "execute_result"
    }
   ],
   "source": [
    "covid_italia2022_nuovi.sample(5).sort_values(by=\"date\")"
   ]
  },
  {
   "cell_type": "code",
   "execution_count": 23,
   "id": "a896477c-b035-44d4-858c-7512a798b904",
   "metadata": {},
   "outputs": [
    {
     "data": {
      "text/plain": [
       "<Axes: title={'center': 'Nuovi casi in Italia nel 2022'}, xlabel='date'>"
      ]
     },
     "execution_count": 23,
     "metadata": {},
     "output_type": "execute_result"
    },
    {
     "data": {
      "image/png": "[encoded data removed]",
      "text/plain": [
       "<Figure size 640x480 with 1 Axes>"
      ]
     },
     "metadata": {},
     "output_type": "display_data"
    }
   ],
   "source": [
    "covid_italia2022_nuovi.plot(x=\"date\", y=\"new_cases\", title=\"Nuovi casi in Italia nel 2022\", kind = \"line\")"
   ]
  },
  {
   "cell_type": "markdown",
   "id": "0669336d-dd2a-4e2f-b4af-cbc935a9092d",
   "metadata": {},
   "source": [
    "4.Riguardo le nazioni di Italia, Germania e Francia tra Maggio 2022 e Aprile 2023"
   ]
  },
  {
   "cell_type": "code",
   "execution_count": 24,
   "id": "965647b3-a892-4d7e-95e9-7f9e1b9af75f",
   "metadata": {},
   "outputs": [],
   "source": [
    "covid_paesi_22_23 = covid[covid[\"date\"].between(\"2022-05-01\", \"2023-04-30\")] # Filtro il dataframe per il periodo desiderato\n",
    "covid_paesi_22_23 = covid_paesi_22_23[covid_paesi_22_23[\"location\"].isin([\"Italy\", \"Germany\", \"France\"])]  # Filtro il dataframe per i paesi desiderati"
   ]
  },
  {
   "cell_type": "code",
   "execution_count": 25,
   "id": "45e4783b-43b2-472d-bbe1-50038d769800",
   "metadata": {},
   "outputs": [
    {
     "data": {
      "text/plain": [
       "iso_code                                     0\n",
       "continent                                    0\n",
       "location                                     0\n",
       "date                                         0\n",
       "total_cases                                  0\n",
       "                                          ... \n",
       "population                                   0\n",
       "excess_mortality_cumulative_absolute       936\n",
       "excess_mortality_cumulative                936\n",
       "excess_mortality                           936\n",
       "excess_mortality_cumulative_per_million    936\n",
       "Length: 67, dtype: int64"
      ]
     },
     "execution_count": 25,
     "metadata": {},
     "output_type": "execute_result"
    }
   ],
   "source": [
    "covid_paesi_22_23.isna().sum() #Controllo se ci sono valori nulli nel dataframe"
   ]
  },
  {
   "cell_type": "code",
   "execution_count": 26,
   "id": "4de5ea9a-c584-4655-919c-fe9aca2cee60",
   "metadata": {},
   "outputs": [
    {
     "data": {
      "text/plain": [
       "16332"
      ]
     },
     "execution_count": 26,
     "metadata": {},
     "output_type": "execute_result"
    }
   ],
   "source": [
    "covid_paesi_22_23.isnull().sum().sum() #Controllo la quantità di valori nulli nel dataframe"
   ]
  },
  {
   "cell_type": "code",
   "execution_count": 27,
   "id": "ae8f5302-3c7c-46dc-90ba-c7594ed39f15",
   "metadata": {},
   "outputs": [
    {
     "data": {
      "text/plain": [
       "30"
      ]
     },
     "execution_count": 27,
     "metadata": {},
     "output_type": "execute_result"
    }
   ],
   "source": [
    "covid_paesi_22_23[\"icu_patients\"].isnull().sum() #Controllo i valori nulli nella colonna \"icu_patients\""
   ]
  },
  {
   "cell_type": "code",
   "execution_count": 28,
   "id": "d791d146-d43a-46ab-8b61-b494f2862fd4",
   "metadata": {},
   "outputs": [],
   "source": [
    "covid_paesi_22_23 = covid_paesi_22_23[covid_paesi_22_23[\"icu_patients\"].notna()] #Rimuovo le righe con valori nulli nella colonna \"icu_patients\"\n",
    "covid_paesi_22_23 = covid_paesi_22_23[(covid_paesi_22_23[\"icu_patients\"] > 0)]"
   ]
  },
  {
   "cell_type": "code",
   "execution_count": 29,
   "id": "451a4512-f387-4b9c-8f87-5c4de88895f4",
   "metadata": {},
   "outputs": [
    {
     "data": {
      "text/plain": [
       "0"
      ]
     },
     "execution_count": 29,
     "metadata": {},
     "output_type": "execute_result"
    }
   ],
   "source": [
    "covid_paesi_22_23[\"icu_patients\"].isnull().sum() #Controllo i valori nulli nella colonna \"icu_patients\""
   ]
  },
  {
   "cell_type": "code",
   "execution_count": 30,
   "id": "9d29c240-a0fc-4eb2-90bb-c6eecb9bc40d",
   "metadata": {},
   "outputs": [
    {
     "data": {
      "text/plain": [
       "15602"
      ]
     },
     "execution_count": 30,
     "metadata": {},
     "output_type": "execute_result"
    }
   ],
   "source": [
    "covid_paesi_22_23.isnull().sum().sum() #Controllo la quantità di valori nulli nel dataframe"
   ]
  },
  {
   "cell_type": "markdown",
   "id": "0c631a2c-97e6-490d-a9de-5a4b63de2767",
   "metadata": {},
   "source": [
    "4a. Mostrare in un boxplot la differenza tra queste nazioni riguardo il numero di pazienti in terapia intensiva (Intensive Care Unit, ICU, considerare quindi la colonna icu_patients) da maggio 2022 (incluso) ad aprile 2023 (incluso)"
   ]
  },
  {
   "cell_type": "code",
   "execution_count": 31,
   "id": "95984e22-ec80-43cb-a9c9-2f1cfb588cc4",
   "metadata": {},
   "outputs": [
    {
     "data": {
      "text/plain": [
       "Text(0.5, 1.0, 'Numero di pazienti in terapia intensiva per paese')"
      ]
     },
     "execution_count": 31,
     "metadata": {},
     "output_type": "execute_result"
    },
    {
     "data": {
      "image/png": "[encoded data removed]",
      "text/plain": [
       "<Figure size 640x480 with 1 Axes>"
      ]
     },
     "metadata": {},
     "output_type": "display_data"
    }
   ],
   "source": [
    "sns.boxplot(data=covid_paesi_22_23, x=\"location\", y=\"icu_patients\") # Visualizzo i dati con un boxplot\n",
    "plt.title(\"Numero di pazienti in terapia intensiva per paese\") # Aggiungo un titolo al grafico"
   ]
  },
  {
   "cell_type": "markdown",
   "id": "7299ed45-566d-4264-9d10-5bdeae3c856b",
   "metadata": {},
   "source": [
    "4b. Scrivere un breve commento (una o due righe) riguardo che conclusioni possiamo trarre osservando il grafico risultante"
   ]
  },
  {
   "cell_type": "markdown",
   "id": "bf034d12-db31-41a4-ad87-c3dc53d33858",
   "metadata": {},
   "source": [
    "Dal grafico che la Germania ha avuto un indice maggiore di Icu seguita da Francia e Italia. Osserviamo il box che va dal 1° quartile e 3° quartile(25% a 75%):\n",
    "       Germania:Tra 750 e 1250 con baffo superiore di 1750; Francia:750 e 1200 con baffo superiore di 1500;\n",
    "       Italia:Tra 150 e 350 con baffo superiore leggermente al di sotto 500"
   ]
  },
  {
   "cell_type": "markdown",
   "id": "e0380292-996c-4c6b-b59e-12043e8fc836",
   "metadata": {},
   "source": [
    "5.Riguardo le nazioni di Italia, Germania, Francia e Spagna in tutto il 2021:"
   ]
  },
  {
   "cell_type": "code",
   "execution_count": 32,
   "id": "e22fc683-8d38-4ee1-9a1b-24e3460043bc",
   "metadata": {},
   "outputs": [],
   "source": [
    "covid_paesi_21 = covid[covid[\"date\"].dt.year == 2021]  # Filtro il dataframe per il periodo desiderato\n",
    "covid_paesi_21 = covid_paesi_21[covid_paesi_21[\"location\"].isin([\"Italy\", \"Germany\", \"France\", \"Spain\"])]  # Filtro il dataframe per i paesi desiderati"
   ]
  },
  {
   "cell_type": "markdown",
   "id": "df6b9aff-cb6b-4981-b523-9226b0af4ec0",
   "metadata": {},
   "source": [
    "5a Mostrare, in maniera grafica oppure numerica, la somma dei pazienti ospedalizzati per ognuna colonna (colonna hosp_patients)"
   ]
  },
  {
   "cell_type": "code",
   "execution_count": 33,
   "id": "3a04a95a-0426-46f6-bee7-5164eb0de43a",
   "metadata": {},
   "outputs": [
    {
     "name": "stdout",
     "output_type": "stream",
     "text": [
      "location\n",
      "France     6008717.0\n",
      "Germany          0.0\n",
      "Italy      4419950.0\n",
      "Spain      2411706.0\n",
      "Name: hosp_patients, dtype: float64\n"
     ]
    }
   ],
   "source": [
    "covid_paesi_21_hosp = covid_paesi_21.groupby([\"location\"])[\"hosp_patients\"].sum() # Calcolo il numero totale di pazienti in ospedale per paese\n",
    "print(covid_paesi_21_hosp)"
   ]
  },
  {
   "cell_type": "code",
   "execution_count": 34,
   "id": "12461df5-fac1-4d17-8f29-424042dee1de",
   "metadata": {},
   "outputs": [
    {
     "data": {
      "text/plain": [
       "Text(0.5, 1.0, 'Numero totale di pazienti in ospedale per paese')"
      ]
     },
     "execution_count": 34,
     "metadata": {},
     "output_type": "execute_result"
    },
    {
     "data": {
      "image/png": "[encoded data removed]",
      "text/plain": [
       "<Figure size 640x480 with 1 Axes>"
      ]
     },
     "metadata": {},
     "output_type": "display_data"
    }
   ],
   "source": [
    "sns.barplot(data=covid_paesi_21, x=\"location\", y=\"hosp_patients\", estimator=sum) # Visualizzo i dati con un barplot\n",
    "plt.title(\"Numero totale di pazienti in ospedale per paese\") # Aggiungo un titolo al grafico"
   ]
  },
  {
   "cell_type": "markdown",
   "id": "09456dd8-1d78-4355-a1a9-ac6ed9f30e68",
   "metadata": {},
   "source": [
    "5b. Se ci sono dati nulli, con un breve commento scrivere se può essere possibile gestirli tramite sostituzione o meno."
   ]
  },
  {
   "cell_type": "raw",
   "id": "8cbbdd19-fc5d-4f3a-9a11-45f3513a470c",
   "metadata": {},
   "source": [
    "La colonna hosp_patients della Germania presenta solo dati nulli. La sostituzione risulterebbe inappropriata in quanto\n",
    "non si avrebbe riferimento per un ipotetico metodo di sostituzione"
   ]
  },
  {
   "cell_type": "code",
   "execution_count": 35,
   "id": "3857f565-b5fb-44de-b454-f0a3b0ff2e68",
   "metadata": {},
   "outputs": [
    {
     "data": {
      "text/plain": [
       "365"
      ]
     },
     "execution_count": 35,
     "metadata": {},
     "output_type": "execute_result"
    }
   ],
   "source": [
    "covid_germany = covid_paesi_21[covid_paesi_21[\"location\"] == \"Germany\"] # Filtro per controllo dati Germania per verifcare lo 0 precedente\n",
    "covid_germany[\"hosp_patients\"].isna().sum() #Controllo se ci sono valori nulli nel dataframe"
   ]
  },
  {
   "cell_type": "code",
   "execution_count": 36,
   "id": "d27f14b7-3bce-42a9-b0b4-cd7707582e4c",
   "metadata": {},
   "outputs": [
    {
     "name": "stdout",
     "output_type": "stream",
     "text": [
      "             date  hosp_patients\n",
      "140982 2021-07-29            NaN\n",
      "140898 2021-05-06            NaN\n",
      "140822 2021-02-19            NaN\n",
      "140852 2021-03-21            NaN\n",
      "140775 2021-01-03            NaN\n",
      "140907 2021-05-15            NaN\n",
      "141021 2021-09-06            NaN\n",
      "141050 2021-10-05            NaN\n",
      "140835 2021-03-04            NaN\n",
      "140890 2021-04-28            NaN\n",
      "140837 2021-03-06            NaN\n",
      "141028 2021-09-13            NaN\n",
      "140954 2021-07-01            NaN\n",
      "140800 2021-01-28            NaN\n",
      "141113 2021-12-07            NaN\n",
      "141013 2021-08-29            NaN\n",
      "141133 2021-12-27            NaN\n",
      "140783 2021-01-11            NaN\n",
      "141069 2021-10-24            NaN\n",
      "140813 2021-02-10            NaN\n"
     ]
    }
   ],
   "source": [
    "print(covid_germany[[\"date\", \"hosp_patients\"]].sample(20)) # Verfica random di 20 righe per Germania"
   ]
  }
 ],
 "metadata": {
  "kernelspec": {
   "display_name": "Python 3 (ipykernel)",
   "language": "python",
   "name": "python3"
  },
  "language_info": {
   "codemirror_mode": {
    "name": "ipython",
    "version": 3
   },
   "file_extension": ".py",
   "mimetype": "text/x-python",
   "name": "python",
   "nbconvert_exporter": "python",
   "pygments_lexer": "ipython3",
   "version": "3.12.7"
  }
 },
 "nbformat": 4,
 "nbformat_minor": 5
}
