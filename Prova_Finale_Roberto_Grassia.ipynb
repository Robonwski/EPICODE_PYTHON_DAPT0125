{
 "cells": [
  {
   "cell_type": "markdown",
   "id": "1eb65011",
   "metadata": {},
   "source": [
    "## Prova Finale Roberto Grassia\n",
    "### Il committente richiede di avere un report su casi e vaccinazioni in diverse aree del mondo; a tal fine, richiede di utilizzare il dataset, curato da Our World in Data, all'indirizzo https://github.com/owid/covid-19-data/tree/master/public/data"
   ]
  },
  {
   "cell_type": "code",
   "execution_count": 1,
   "id": "76f4c973",
   "metadata": {},
   "outputs": [],
   "source": [
    "import os\n",
    "import dotenv\n",
    "import sqlalchemy\n",
    "import pandas as pd\n",
    "import numpy as np\n",
    "import seaborn as sns\n",
    "import matplotlib.pyplot as plt\n",
    "urlcovid = r\"C:\\Users\\rgras\\Desktop\\Python\\Prova_finale.csv\"\n",
    "covid = pd.read_csv(urlcovid)"
   ]
  },
  {
   "cell_type": "markdown",
   "id": "270c794a",
   "metadata": {},
   "source": [
    "1.Si richiede di verificare le dimensioni del dataset e i relativi metadati"
   ]
  },
  {
   "cell_type": "code",
   "execution_count": 2,
   "id": "47f5698e",
   "metadata": {},
   "outputs": [
    {
     "name": "stdout",
     "output_type": "stream",
     "text": [
      "<class 'pandas.core.frame.DataFrame'>\n",
      "RangeIndex: 429435 entries, 0 to 429434\n",
      "Data columns (total 67 columns):\n",
      " #   Column                                      Non-Null Count   Dtype  \n",
      "---  ------                                      --------------   -----  \n",
      " 0   iso_code                                    429435 non-null  object \n",
      " 1   continent                                   402910 non-null  object \n",
      " 2   location                                    429435 non-null  object \n",
      " 3   date                                        429435 non-null  object \n",
      " 4   total_cases                                 411804 non-null  float64\n",
      " 5   new_cases                                   410159 non-null  float64\n",
      " 6   new_cases_smoothed                          408929 non-null  float64\n",
      " 7   total_deaths                                411804 non-null  float64\n",
      " 8   new_deaths                                  410608 non-null  float64\n",
      " 9   new_deaths_smoothed                         409378 non-null  float64\n",
      " 10  total_cases_per_million                     411804 non-null  float64\n",
      " 11  new_cases_per_million                       410159 non-null  float64\n",
      " 12  new_cases_smoothed_per_million              408929 non-null  float64\n",
      " 13  total_deaths_per_million                    411804 non-null  float64\n",
      " 14  new_deaths_per_million                      410608 non-null  float64\n",
      " 15  new_deaths_smoothed_per_million             409378 non-null  float64\n",
      " 16  reproduction_rate                           184817 non-null  float64\n",
      " 17  icu_patients                                39116 non-null   float64\n",
      " 18  icu_patients_per_million                    39116 non-null   float64\n",
      " 19  hosp_patients                               40656 non-null   float64\n",
      " 20  hosp_patients_per_million                   40656 non-null   float64\n",
      " 21  weekly_icu_admissions                       10993 non-null   float64\n",
      " 22  weekly_icu_admissions_per_million           10993 non-null   float64\n",
      " 23  weekly_hosp_admissions                      24497 non-null   float64\n",
      " 24  weekly_hosp_admissions_per_million          24497 non-null   float64\n",
      " 25  total_tests                                 79387 non-null   float64\n",
      " 26  new_tests                                   75403 non-null   float64\n",
      " 27  total_tests_per_thousand                    79387 non-null   float64\n",
      " 28  new_tests_per_thousand                      75403 non-null   float64\n",
      " 29  new_tests_smoothed                          103965 non-null  float64\n",
      " 30  new_tests_smoothed_per_thousand             103965 non-null  float64\n",
      " 31  positive_rate                               95927 non-null   float64\n",
      " 32  tests_per_case                              94348 non-null   float64\n",
      " 33  tests_units                                 106788 non-null  object \n",
      " 34  total_vaccinations                          85417 non-null   float64\n",
      " 35  people_vaccinated                           81132 non-null   float64\n",
      " 36  people_fully_vaccinated                     78061 non-null   float64\n",
      " 37  total_boosters                              53600 non-null   float64\n",
      " 38  new_vaccinations                            70971 non-null   float64\n",
      " 39  new_vaccinations_smoothed                   195029 non-null  float64\n",
      " 40  total_vaccinations_per_hundred              85417 non-null   float64\n",
      " 41  people_vaccinated_per_hundred               81132 non-null   float64\n",
      " 42  people_fully_vaccinated_per_hundred         78061 non-null   float64\n",
      " 43  total_boosters_per_hundred                  53600 non-null   float64\n",
      " 44  new_vaccinations_smoothed_per_million       195029 non-null  float64\n",
      " 45  new_people_vaccinated_smoothed              192177 non-null  float64\n",
      " 46  new_people_vaccinated_smoothed_per_hundred  192177 non-null  float64\n",
      " 47  stringency_index                            196190 non-null  float64\n",
      " 48  population_density                          360492 non-null  float64\n",
      " 49  median_age                                  334663 non-null  float64\n",
      " 50  aged_65_older                               323270 non-null  float64\n",
      " 51  aged_70_older                               331315 non-null  float64\n",
      " 52  gdp_per_capita                              328292 non-null  float64\n",
      " 53  extreme_poverty                             211996 non-null  float64\n",
      " 54  cardiovasc_death_rate                       328865 non-null  float64\n",
      " 55  diabetes_prevalence                         345911 non-null  float64\n",
      " 56  female_smokers                              247165 non-null  float64\n",
      " 57  male_smokers                                243817 non-null  float64\n",
      " 58  handwashing_facilities                      161741 non-null  float64\n",
      " 59  hospital_beds_per_thousand                  290689 non-null  float64\n",
      " 60  life_expectancy                             390299 non-null  float64\n",
      " 61  human_development_index                     319127 non-null  float64\n",
      " 62  population                                  429435 non-null  int64  \n",
      " 63  excess_mortality_cumulative_absolute        13411 non-null   float64\n",
      " 64  excess_mortality_cumulative                 13411 non-null   float64\n",
      " 65  excess_mortality                            13411 non-null   float64\n",
      " 66  excess_mortality_cumulative_per_million     13411 non-null   float64\n",
      "dtypes: float64(61), int64(1), object(5)\n",
      "memory usage: 219.5+ MB\n"
     ]
    }
   ],
   "source": [
    "covid.info() #Visualizzo le informazioni del dataframe e metadati"
   ]
  },
  {
   "cell_type": "code",
   "execution_count": 3,
   "id": "3424e4c7",
   "metadata": {},
   "outputs": [
    {
     "name": "stdout",
     "output_type": "stream",
     "text": [
      "La Dimensione del dataframe è: (429435, 67)\n"
     ]
    }
   ],
   "source": [
    "print(\"La Dimensione del dataframe è:\",covid.shape) #Visualizzo la dimensione del dataframe"
   ]
  },
  {
   "cell_type": "code",
   "execution_count": 4,
   "id": "47d0da35",
   "metadata": {},
   "outputs": [
    {
     "data": {
      "text/html": [
       "<div>\n",
       "<style scoped>\n",
       "    .dataframe tbody tr th:only-of-type {\n",
       "        vertical-align: middle;\n",
       "    }\n",
       "\n",
       "    .dataframe tbody tr th {\n",
       "        vertical-align: top;\n",
       "    }\n",
       "\n",
       "    .dataframe thead th {\n",
       "        text-align: right;\n",
       "    }\n",
       "</style>\n",
       "<table border=\"1\" class=\"dataframe\">\n",
       "  <thead>\n",
       "    <tr style=\"text-align: right;\">\n",
       "      <th></th>\n",
       "      <th>iso_code</th>\n",
       "      <th>continent</th>\n",
       "      <th>location</th>\n",
       "      <th>date</th>\n",
       "      <th>total_cases</th>\n",
       "      <th>new_cases</th>\n",
       "      <th>new_cases_smoothed</th>\n",
       "      <th>total_deaths</th>\n",
       "      <th>new_deaths</th>\n",
       "      <th>new_deaths_smoothed</th>\n",
       "      <th>...</th>\n",
       "      <th>male_smokers</th>\n",
       "      <th>handwashing_facilities</th>\n",
       "      <th>hospital_beds_per_thousand</th>\n",
       "      <th>life_expectancy</th>\n",
       "      <th>human_development_index</th>\n",
       "      <th>population</th>\n",
       "      <th>excess_mortality_cumulative_absolute</th>\n",
       "      <th>excess_mortality_cumulative</th>\n",
       "      <th>excess_mortality</th>\n",
       "      <th>excess_mortality_cumulative_per_million</th>\n",
       "    </tr>\n",
       "  </thead>\n",
       "  <tbody>\n",
       "    <tr>\n",
       "      <th>365017</th>\n",
       "      <td>LKA</td>\n",
       "      <td>Asia</td>\n",
       "      <td>Sri Lanka</td>\n",
       "      <td>2022-01-31</td>\n",
       "      <td>610103.0</td>\n",
       "      <td>0.0</td>\n",
       "      <td>1173.857</td>\n",
       "      <td>15420.0</td>\n",
       "      <td>0.0</td>\n",
       "      <td>17.286</td>\n",
       "      <td>...</td>\n",
       "      <td>27.0</td>\n",
       "      <td>NaN</td>\n",
       "      <td>3.60</td>\n",
       "      <td>76.98</td>\n",
       "      <td>0.782</td>\n",
       "      <td>21832150</td>\n",
       "      <td>NaN</td>\n",
       "      <td>NaN</td>\n",
       "      <td>NaN</td>\n",
       "      <td>NaN</td>\n",
       "    </tr>\n",
       "    <tr>\n",
       "      <th>215862</th>\n",
       "      <td>LTU</td>\n",
       "      <td>Europe</td>\n",
       "      <td>Lithuania</td>\n",
       "      <td>2021-04-01</td>\n",
       "      <td>214027.0</td>\n",
       "      <td>0.0</td>\n",
       "      <td>706.000</td>\n",
       "      <td>3552.0</td>\n",
       "      <td>0.0</td>\n",
       "      <td>10.286</td>\n",
       "      <td>...</td>\n",
       "      <td>38.0</td>\n",
       "      <td>NaN</td>\n",
       "      <td>6.56</td>\n",
       "      <td>75.93</td>\n",
       "      <td>0.882</td>\n",
       "      <td>2750058</td>\n",
       "      <td>NaN</td>\n",
       "      <td>NaN</td>\n",
       "      <td>NaN</td>\n",
       "      <td>NaN</td>\n",
       "    </tr>\n",
       "    <tr>\n",
       "      <th>319424</th>\n",
       "      <td>RWA</td>\n",
       "      <td>Africa</td>\n",
       "      <td>Rwanda</td>\n",
       "      <td>2024-07-29</td>\n",
       "      <td>133264.0</td>\n",
       "      <td>0.0</td>\n",
       "      <td>0.000</td>\n",
       "      <td>1468.0</td>\n",
       "      <td>0.0</td>\n",
       "      <td>0.000</td>\n",
       "      <td>...</td>\n",
       "      <td>21.0</td>\n",
       "      <td>4.617</td>\n",
       "      <td>NaN</td>\n",
       "      <td>69.02</td>\n",
       "      <td>0.543</td>\n",
       "      <td>13776702</td>\n",
       "      <td>NaN</td>\n",
       "      <td>NaN</td>\n",
       "      <td>NaN</td>\n",
       "      <td>NaN</td>\n",
       "    </tr>\n",
       "    <tr>\n",
       "      <th>277180</th>\n",
       "      <td>NIU</td>\n",
       "      <td>Oceania</td>\n",
       "      <td>Niue</td>\n",
       "      <td>2024-07-31</td>\n",
       "      <td>1074.0</td>\n",
       "      <td>0.0</td>\n",
       "      <td>0.000</td>\n",
       "      <td>0.0</td>\n",
       "      <td>0.0</td>\n",
       "      <td>0.000</td>\n",
       "      <td>...</td>\n",
       "      <td>NaN</td>\n",
       "      <td>NaN</td>\n",
       "      <td>NaN</td>\n",
       "      <td>73.71</td>\n",
       "      <td>NaN</td>\n",
       "      <td>1952</td>\n",
       "      <td>NaN</td>\n",
       "      <td>NaN</td>\n",
       "      <td>NaN</td>\n",
       "      <td>NaN</td>\n",
       "    </tr>\n",
       "    <tr>\n",
       "      <th>11650</th>\n",
       "      <td>AGO</td>\n",
       "      <td>Africa</td>\n",
       "      <td>Angola</td>\n",
       "      <td>2024-05-29</td>\n",
       "      <td>107454.0</td>\n",
       "      <td>0.0</td>\n",
       "      <td>0.429</td>\n",
       "      <td>1937.0</td>\n",
       "      <td>0.0</td>\n",
       "      <td>0.000</td>\n",
       "      <td>...</td>\n",
       "      <td>NaN</td>\n",
       "      <td>26.664</td>\n",
       "      <td>NaN</td>\n",
       "      <td>61.15</td>\n",
       "      <td>0.581</td>\n",
       "      <td>35588996</td>\n",
       "      <td>NaN</td>\n",
       "      <td>NaN</td>\n",
       "      <td>NaN</td>\n",
       "      <td>NaN</td>\n",
       "    </tr>\n",
       "    <tr>\n",
       "      <th>19776</th>\n",
       "      <td>ABW</td>\n",
       "      <td>North America</td>\n",
       "      <td>Aruba</td>\n",
       "      <td>2023-09-24</td>\n",
       "      <td>44224.0</td>\n",
       "      <td>0.0</td>\n",
       "      <td>0.000</td>\n",
       "      <td>292.0</td>\n",
       "      <td>0.0</td>\n",
       "      <td>0.000</td>\n",
       "      <td>...</td>\n",
       "      <td>NaN</td>\n",
       "      <td>NaN</td>\n",
       "      <td>NaN</td>\n",
       "      <td>76.29</td>\n",
       "      <td>NaN</td>\n",
       "      <td>106459</td>\n",
       "      <td>NaN</td>\n",
       "      <td>NaN</td>\n",
       "      <td>NaN</td>\n",
       "      <td>NaN</td>\n",
       "    </tr>\n",
       "    <tr>\n",
       "      <th>339013</th>\n",
       "      <td>OWID_SCT</td>\n",
       "      <td>Europe</td>\n",
       "      <td>Scotland</td>\n",
       "      <td>2023-05-19</td>\n",
       "      <td>NaN</td>\n",
       "      <td>NaN</td>\n",
       "      <td>NaN</td>\n",
       "      <td>NaN</td>\n",
       "      <td>NaN</td>\n",
       "      <td>NaN</td>\n",
       "      <td>...</td>\n",
       "      <td>NaN</td>\n",
       "      <td>NaN</td>\n",
       "      <td>NaN</td>\n",
       "      <td>NaN</td>\n",
       "      <td>NaN</td>\n",
       "      <td>5466000</td>\n",
       "      <td>NaN</td>\n",
       "      <td>NaN</td>\n",
       "      <td>NaN</td>\n",
       "      <td>NaN</td>\n",
       "    </tr>\n",
       "    <tr>\n",
       "      <th>387712</th>\n",
       "      <td>TTO</td>\n",
       "      <td>North America</td>\n",
       "      <td>Trinidad and Tobago</td>\n",
       "      <td>2022-10-02</td>\n",
       "      <td>183181.0</td>\n",
       "      <td>584.0</td>\n",
       "      <td>83.429</td>\n",
       "      <td>4207.0</td>\n",
       "      <td>12.0</td>\n",
       "      <td>1.714</td>\n",
       "      <td>...</td>\n",
       "      <td>NaN</td>\n",
       "      <td>89.443</td>\n",
       "      <td>3.00</td>\n",
       "      <td>73.51</td>\n",
       "      <td>0.796</td>\n",
       "      <td>1531043</td>\n",
       "      <td>NaN</td>\n",
       "      <td>NaN</td>\n",
       "      <td>NaN</td>\n",
       "      <td>NaN</td>\n",
       "    </tr>\n",
       "    <tr>\n",
       "      <th>165232</th>\n",
       "      <td>OWID_HIC</td>\n",
       "      <td>NaN</td>\n",
       "      <td>High-income countries</td>\n",
       "      <td>2020-02-07</td>\n",
       "      <td>106.0</td>\n",
       "      <td>0.0</td>\n",
       "      <td>10.714</td>\n",
       "      <td>10.0</td>\n",
       "      <td>0.0</td>\n",
       "      <td>0.571</td>\n",
       "      <td>...</td>\n",
       "      <td>NaN</td>\n",
       "      <td>NaN</td>\n",
       "      <td>NaN</td>\n",
       "      <td>NaN</td>\n",
       "      <td>NaN</td>\n",
       "      <td>1250514600</td>\n",
       "      <td>NaN</td>\n",
       "      <td>NaN</td>\n",
       "      <td>NaN</td>\n",
       "      <td>NaN</td>\n",
       "    </tr>\n",
       "    <tr>\n",
       "      <th>383470</th>\n",
       "      <td>TKL</td>\n",
       "      <td>Oceania</td>\n",
       "      <td>Tokelau</td>\n",
       "      <td>2020-04-21</td>\n",
       "      <td>0.0</td>\n",
       "      <td>0.0</td>\n",
       "      <td>0.000</td>\n",
       "      <td>0.0</td>\n",
       "      <td>0.0</td>\n",
       "      <td>0.000</td>\n",
       "      <td>...</td>\n",
       "      <td>NaN</td>\n",
       "      <td>NaN</td>\n",
       "      <td>NaN</td>\n",
       "      <td>81.86</td>\n",
       "      <td>NaN</td>\n",
       "      <td>1893</td>\n",
       "      <td>NaN</td>\n",
       "      <td>NaN</td>\n",
       "      <td>NaN</td>\n",
       "      <td>NaN</td>\n",
       "    </tr>\n",
       "  </tbody>\n",
       "</table>\n",
       "<p>10 rows × 67 columns</p>\n",
       "</div>"
      ],
      "text/plain": [
       "        iso_code      continent               location        date  \\\n",
       "365017       LKA           Asia              Sri Lanka  2022-01-31   \n",
       "215862       LTU         Europe              Lithuania  2021-04-01   \n",
       "319424       RWA         Africa                 Rwanda  2024-07-29   \n",
       "277180       NIU        Oceania                   Niue  2024-07-31   \n",
       "11650        AGO         Africa                 Angola  2024-05-29   \n",
       "19776        ABW  North America                  Aruba  2023-09-24   \n",
       "339013  OWID_SCT         Europe               Scotland  2023-05-19   \n",
       "387712       TTO  North America    Trinidad and Tobago  2022-10-02   \n",
       "165232  OWID_HIC            NaN  High-income countries  2020-02-07   \n",
       "383470       TKL        Oceania                Tokelau  2020-04-21   \n",
       "\n",
       "        total_cases  new_cases  new_cases_smoothed  total_deaths  new_deaths  \\\n",
       "365017     610103.0        0.0            1173.857       15420.0         0.0   \n",
       "215862     214027.0        0.0             706.000        3552.0         0.0   \n",
       "319424     133264.0        0.0               0.000        1468.0         0.0   \n",
       "277180       1074.0        0.0               0.000           0.0         0.0   \n",
       "11650      107454.0        0.0               0.429        1937.0         0.0   \n",
       "19776       44224.0        0.0               0.000         292.0         0.0   \n",
       "339013          NaN        NaN                 NaN           NaN         NaN   \n",
       "387712     183181.0      584.0              83.429        4207.0        12.0   \n",
       "165232        106.0        0.0              10.714          10.0         0.0   \n",
       "383470          0.0        0.0               0.000           0.0         0.0   \n",
       "\n",
       "        new_deaths_smoothed  ...  male_smokers  handwashing_facilities  \\\n",
       "365017               17.286  ...          27.0                     NaN   \n",
       "215862               10.286  ...          38.0                     NaN   \n",
       "319424                0.000  ...          21.0                   4.617   \n",
       "277180                0.000  ...           NaN                     NaN   \n",
       "11650                 0.000  ...           NaN                  26.664   \n",
       "19776                 0.000  ...           NaN                     NaN   \n",
       "339013                  NaN  ...           NaN                     NaN   \n",
       "387712                1.714  ...           NaN                  89.443   \n",
       "165232                0.571  ...           NaN                     NaN   \n",
       "383470                0.000  ...           NaN                     NaN   \n",
       "\n",
       "        hospital_beds_per_thousand  life_expectancy  human_development_index  \\\n",
       "365017                        3.60            76.98                    0.782   \n",
       "215862                        6.56            75.93                    0.882   \n",
       "319424                         NaN            69.02                    0.543   \n",
       "277180                         NaN            73.71                      NaN   \n",
       "11650                          NaN            61.15                    0.581   \n",
       "19776                          NaN            76.29                      NaN   \n",
       "339013                         NaN              NaN                      NaN   \n",
       "387712                        3.00            73.51                    0.796   \n",
       "165232                         NaN              NaN                      NaN   \n",
       "383470                         NaN            81.86                      NaN   \n",
       "\n",
       "        population  excess_mortality_cumulative_absolute  \\\n",
       "365017    21832150                                   NaN   \n",
       "215862     2750058                                   NaN   \n",
       "319424    13776702                                   NaN   \n",
       "277180        1952                                   NaN   \n",
       "11650     35588996                                   NaN   \n",
       "19776       106459                                   NaN   \n",
       "339013     5466000                                   NaN   \n",
       "387712     1531043                                   NaN   \n",
       "165232  1250514600                                   NaN   \n",
       "383470        1893                                   NaN   \n",
       "\n",
       "        excess_mortality_cumulative  excess_mortality  \\\n",
       "365017                          NaN               NaN   \n",
       "215862                          NaN               NaN   \n",
       "319424                          NaN               NaN   \n",
       "277180                          NaN               NaN   \n",
       "11650                           NaN               NaN   \n",
       "19776                           NaN               NaN   \n",
       "339013                          NaN               NaN   \n",
       "387712                          NaN               NaN   \n",
       "165232                          NaN               NaN   \n",
       "383470                          NaN               NaN   \n",
       "\n",
       "        excess_mortality_cumulative_per_million  \n",
       "365017                                      NaN  \n",
       "215862                                      NaN  \n",
       "319424                                      NaN  \n",
       "277180                                      NaN  \n",
       "11650                                       NaN  \n",
       "19776                                       NaN  \n",
       "339013                                      NaN  \n",
       "387712                                      NaN  \n",
       "165232                                      NaN  \n",
       "383470                                      NaN  \n",
       "\n",
       "[10 rows x 67 columns]"
      ]
     },
     "execution_count": 4,
     "metadata": {},
     "output_type": "execute_result"
    }
   ],
   "source": [
    "covid.sample(10) #Visualizzo 15 righe casuali del dataframe"
   ]
  },
  {
   "cell_type": "code",
   "execution_count": 5,
   "id": "8c2a8215",
   "metadata": {},
   "outputs": [
    {
     "data": {
      "text/html": [
       "<div>\n",
       "<style scoped>\n",
       "    .dataframe tbody tr th:only-of-type {\n",
       "        vertical-align: middle;\n",
       "    }\n",
       "\n",
       "    .dataframe tbody tr th {\n",
       "        vertical-align: top;\n",
       "    }\n",
       "\n",
       "    .dataframe thead th {\n",
       "        text-align: right;\n",
       "    }\n",
       "</style>\n",
       "<table border=\"1\" class=\"dataframe\">\n",
       "  <thead>\n",
       "    <tr style=\"text-align: right;\">\n",
       "      <th></th>\n",
       "      <th>total_cases</th>\n",
       "      <th>new_cases</th>\n",
       "      <th>new_cases_smoothed</th>\n",
       "      <th>total_deaths</th>\n",
       "      <th>new_deaths</th>\n",
       "      <th>new_deaths_smoothed</th>\n",
       "      <th>total_cases_per_million</th>\n",
       "      <th>new_cases_per_million</th>\n",
       "      <th>new_cases_smoothed_per_million</th>\n",
       "      <th>total_deaths_per_million</th>\n",
       "      <th>...</th>\n",
       "      <th>male_smokers</th>\n",
       "      <th>handwashing_facilities</th>\n",
       "      <th>hospital_beds_per_thousand</th>\n",
       "      <th>life_expectancy</th>\n",
       "      <th>human_development_index</th>\n",
       "      <th>population</th>\n",
       "      <th>excess_mortality_cumulative_absolute</th>\n",
       "      <th>excess_mortality_cumulative</th>\n",
       "      <th>excess_mortality</th>\n",
       "      <th>excess_mortality_cumulative_per_million</th>\n",
       "    </tr>\n",
       "  </thead>\n",
       "  <tbody>\n",
       "    <tr>\n",
       "      <th>count</th>\n",
       "      <td>4.118040e+05</td>\n",
       "      <td>4.101590e+05</td>\n",
       "      <td>4.089290e+05</td>\n",
       "      <td>4.118040e+05</td>\n",
       "      <td>410608.000000</td>\n",
       "      <td>409378.000000</td>\n",
       "      <td>411804.000000</td>\n",
       "      <td>410159.000000</td>\n",
       "      <td>408929.000000</td>\n",
       "      <td>411804.000000</td>\n",
       "      <td>...</td>\n",
       "      <td>243817.000000</td>\n",
       "      <td>161741.000000</td>\n",
       "      <td>290689.000000</td>\n",
       "      <td>390299.000000</td>\n",
       "      <td>319127.000000</td>\n",
       "      <td>4.294350e+05</td>\n",
       "      <td>1.341100e+04</td>\n",
       "      <td>13411.000000</td>\n",
       "      <td>13411.000000</td>\n",
       "      <td>13411.000000</td>\n",
       "    </tr>\n",
       "    <tr>\n",
       "      <th>mean</th>\n",
       "      <td>7.365292e+06</td>\n",
       "      <td>8.017360e+03</td>\n",
       "      <td>8.041026e+03</td>\n",
       "      <td>8.125957e+04</td>\n",
       "      <td>71.852139</td>\n",
       "      <td>72.060873</td>\n",
       "      <td>112096.199396</td>\n",
       "      <td>122.357074</td>\n",
       "      <td>122.713844</td>\n",
       "      <td>835.514313</td>\n",
       "      <td>...</td>\n",
       "      <td>33.097723</td>\n",
       "      <td>50.649264</td>\n",
       "      <td>3.106912</td>\n",
       "      <td>73.702098</td>\n",
       "      <td>0.722139</td>\n",
       "      <td>1.520336e+08</td>\n",
       "      <td>5.604765e+04</td>\n",
       "      <td>9.766431</td>\n",
       "      <td>10.925353</td>\n",
       "      <td>1772.666400</td>\n",
       "    </tr>\n",
       "    <tr>\n",
       "      <th>std</th>\n",
       "      <td>4.477582e+07</td>\n",
       "      <td>2.296649e+05</td>\n",
       "      <td>8.661611e+04</td>\n",
       "      <td>4.411901e+05</td>\n",
       "      <td>1368.322990</td>\n",
       "      <td>513.636567</td>\n",
       "      <td>162240.412419</td>\n",
       "      <td>1508.778583</td>\n",
       "      <td>559.701638</td>\n",
       "      <td>1134.932671</td>\n",
       "      <td>...</td>\n",
       "      <td>13.853948</td>\n",
       "      <td>31.905375</td>\n",
       "      <td>2.549205</td>\n",
       "      <td>7.387914</td>\n",
       "      <td>0.148903</td>\n",
       "      <td>6.975408e+08</td>\n",
       "      <td>1.568691e+05</td>\n",
       "      <td>12.040658</td>\n",
       "      <td>24.560706</td>\n",
       "      <td>1991.892769</td>\n",
       "    </tr>\n",
       "    <tr>\n",
       "      <th>min</th>\n",
       "      <td>0.000000e+00</td>\n",
       "      <td>0.000000e+00</td>\n",
       "      <td>0.000000e+00</td>\n",
       "      <td>0.000000e+00</td>\n",
       "      <td>0.000000</td>\n",
       "      <td>0.000000</td>\n",
       "      <td>0.000000</td>\n",
       "      <td>0.000000</td>\n",
       "      <td>0.000000</td>\n",
       "      <td>0.000000</td>\n",
       "      <td>...</td>\n",
       "      <td>7.700000</td>\n",
       "      <td>1.188000</td>\n",
       "      <td>0.100000</td>\n",
       "      <td>53.280000</td>\n",
       "      <td>0.394000</td>\n",
       "      <td>4.700000e+01</td>\n",
       "      <td>-3.772610e+04</td>\n",
       "      <td>-44.230000</td>\n",
       "      <td>-95.920000</td>\n",
       "      <td>-2936.453100</td>\n",
       "    </tr>\n",
       "    <tr>\n",
       "      <th>25%</th>\n",
       "      <td>6.280750e+03</td>\n",
       "      <td>0.000000e+00</td>\n",
       "      <td>0.000000e+00</td>\n",
       "      <td>4.300000e+01</td>\n",
       "      <td>0.000000</td>\n",
       "      <td>0.000000</td>\n",
       "      <td>1916.100500</td>\n",
       "      <td>0.000000</td>\n",
       "      <td>0.000000</td>\n",
       "      <td>24.568000</td>\n",
       "      <td>...</td>\n",
       "      <td>22.600000</td>\n",
       "      <td>20.859000</td>\n",
       "      <td>1.300000</td>\n",
       "      <td>69.500000</td>\n",
       "      <td>0.602000</td>\n",
       "      <td>5.237980e+05</td>\n",
       "      <td>1.765000e+02</td>\n",
       "      <td>2.060000</td>\n",
       "      <td>-1.500000</td>\n",
       "      <td>116.872242</td>\n",
       "    </tr>\n",
       "    <tr>\n",
       "      <th>50%</th>\n",
       "      <td>6.365300e+04</td>\n",
       "      <td>0.000000e+00</td>\n",
       "      <td>1.200000e+01</td>\n",
       "      <td>7.990000e+02</td>\n",
       "      <td>0.000000</td>\n",
       "      <td>0.000000</td>\n",
       "      <td>29145.475000</td>\n",
       "      <td>0.000000</td>\n",
       "      <td>2.794000</td>\n",
       "      <td>295.089000</td>\n",
       "      <td>...</td>\n",
       "      <td>33.100000</td>\n",
       "      <td>49.542000</td>\n",
       "      <td>2.500000</td>\n",
       "      <td>75.050000</td>\n",
       "      <td>0.740000</td>\n",
       "      <td>6.336393e+06</td>\n",
       "      <td>6.815199e+03</td>\n",
       "      <td>8.130000</td>\n",
       "      <td>5.660000</td>\n",
       "      <td>1270.801400</td>\n",
       "    </tr>\n",
       "    <tr>\n",
       "      <th>75%</th>\n",
       "      <td>7.582720e+05</td>\n",
       "      <td>0.000000e+00</td>\n",
       "      <td>3.132860e+02</td>\n",
       "      <td>9.574000e+03</td>\n",
       "      <td>0.000000</td>\n",
       "      <td>3.143000</td>\n",
       "      <td>156770.190000</td>\n",
       "      <td>0.000000</td>\n",
       "      <td>56.253000</td>\n",
       "      <td>1283.817000</td>\n",
       "      <td>...</td>\n",
       "      <td>41.500000</td>\n",
       "      <td>82.502000</td>\n",
       "      <td>4.210000</td>\n",
       "      <td>79.460000</td>\n",
       "      <td>0.829000</td>\n",
       "      <td>3.296952e+07</td>\n",
       "      <td>3.912804e+04</td>\n",
       "      <td>15.160000</td>\n",
       "      <td>15.575000</td>\n",
       "      <td>2883.024150</td>\n",
       "    </tr>\n",
       "    <tr>\n",
       "      <th>max</th>\n",
       "      <td>7.758668e+08</td>\n",
       "      <td>4.423623e+07</td>\n",
       "      <td>6.319461e+06</td>\n",
       "      <td>7.057132e+06</td>\n",
       "      <td>103719.000000</td>\n",
       "      <td>14817.000000</td>\n",
       "      <td>763598.600000</td>\n",
       "      <td>241758.230000</td>\n",
       "      <td>34536.890000</td>\n",
       "      <td>6601.110000</td>\n",
       "      <td>...</td>\n",
       "      <td>78.100000</td>\n",
       "      <td>100.000000</td>\n",
       "      <td>13.800000</td>\n",
       "      <td>86.750000</td>\n",
       "      <td>0.957000</td>\n",
       "      <td>7.975105e+09</td>\n",
       "      <td>1.349776e+06</td>\n",
       "      <td>78.080000</td>\n",
       "      <td>378.220000</td>\n",
       "      <td>10293.515000</td>\n",
       "    </tr>\n",
       "  </tbody>\n",
       "</table>\n",
       "<p>8 rows × 62 columns</p>\n",
       "</div>"
      ],
      "text/plain": [
       "        total_cases     new_cases  new_cases_smoothed  total_deaths  \\\n",
       "count  4.118040e+05  4.101590e+05        4.089290e+05  4.118040e+05   \n",
       "mean   7.365292e+06  8.017360e+03        8.041026e+03  8.125957e+04   \n",
       "std    4.477582e+07  2.296649e+05        8.661611e+04  4.411901e+05   \n",
       "min    0.000000e+00  0.000000e+00        0.000000e+00  0.000000e+00   \n",
       "25%    6.280750e+03  0.000000e+00        0.000000e+00  4.300000e+01   \n",
       "50%    6.365300e+04  0.000000e+00        1.200000e+01  7.990000e+02   \n",
       "75%    7.582720e+05  0.000000e+00        3.132860e+02  9.574000e+03   \n",
       "max    7.758668e+08  4.423623e+07        6.319461e+06  7.057132e+06   \n",
       "\n",
       "          new_deaths  new_deaths_smoothed  total_cases_per_million  \\\n",
       "count  410608.000000        409378.000000            411804.000000   \n",
       "mean       71.852139            72.060873            112096.199396   \n",
       "std      1368.322990           513.636567            162240.412419   \n",
       "min         0.000000             0.000000                 0.000000   \n",
       "25%         0.000000             0.000000              1916.100500   \n",
       "50%         0.000000             0.000000             29145.475000   \n",
       "75%         0.000000             3.143000            156770.190000   \n",
       "max    103719.000000         14817.000000            763598.600000   \n",
       "\n",
       "       new_cases_per_million  new_cases_smoothed_per_million  \\\n",
       "count          410159.000000                   408929.000000   \n",
       "mean              122.357074                      122.713844   \n",
       "std              1508.778583                      559.701638   \n",
       "min                 0.000000                        0.000000   \n",
       "25%                 0.000000                        0.000000   \n",
       "50%                 0.000000                        2.794000   \n",
       "75%                 0.000000                       56.253000   \n",
       "max            241758.230000                    34536.890000   \n",
       "\n",
       "       total_deaths_per_million  ...   male_smokers  handwashing_facilities  \\\n",
       "count             411804.000000  ...  243817.000000           161741.000000   \n",
       "mean                 835.514313  ...      33.097723               50.649264   \n",
       "std                 1134.932671  ...      13.853948               31.905375   \n",
       "min                    0.000000  ...       7.700000                1.188000   \n",
       "25%                   24.568000  ...      22.600000               20.859000   \n",
       "50%                  295.089000  ...      33.100000               49.542000   \n",
       "75%                 1283.817000  ...      41.500000               82.502000   \n",
       "max                 6601.110000  ...      78.100000              100.000000   \n",
       "\n",
       "       hospital_beds_per_thousand  life_expectancy  human_development_index  \\\n",
       "count               290689.000000    390299.000000            319127.000000   \n",
       "mean                     3.106912        73.702098                 0.722139   \n",
       "std                      2.549205         7.387914                 0.148903   \n",
       "min                      0.100000        53.280000                 0.394000   \n",
       "25%                      1.300000        69.500000                 0.602000   \n",
       "50%                      2.500000        75.050000                 0.740000   \n",
       "75%                      4.210000        79.460000                 0.829000   \n",
       "max                     13.800000        86.750000                 0.957000   \n",
       "\n",
       "         population  excess_mortality_cumulative_absolute  \\\n",
       "count  4.294350e+05                          1.341100e+04   \n",
       "mean   1.520336e+08                          5.604765e+04   \n",
       "std    6.975408e+08                          1.568691e+05   \n",
       "min    4.700000e+01                         -3.772610e+04   \n",
       "25%    5.237980e+05                          1.765000e+02   \n",
       "50%    6.336393e+06                          6.815199e+03   \n",
       "75%    3.296952e+07                          3.912804e+04   \n",
       "max    7.975105e+09                          1.349776e+06   \n",
       "\n",
       "       excess_mortality_cumulative  excess_mortality  \\\n",
       "count                 13411.000000      13411.000000   \n",
       "mean                      9.766431         10.925353   \n",
       "std                      12.040658         24.560706   \n",
       "min                     -44.230000        -95.920000   \n",
       "25%                       2.060000         -1.500000   \n",
       "50%                       8.130000          5.660000   \n",
       "75%                      15.160000         15.575000   \n",
       "max                      78.080000        378.220000   \n",
       "\n",
       "       excess_mortality_cumulative_per_million  \n",
       "count                             13411.000000  \n",
       "mean                               1772.666400  \n",
       "std                                1991.892769  \n",
       "min                               -2936.453100  \n",
       "25%                                 116.872242  \n",
       "50%                                1270.801400  \n",
       "75%                                2883.024150  \n",
       "max                               10293.515000  \n",
       "\n",
       "[8 rows x 62 columns]"
      ]
     },
     "execution_count": 5,
     "metadata": {},
     "output_type": "execute_result"
    }
   ],
   "source": [
    "covid.describe() #Visualizzo le statistiche del dataframe"
   ]
  },
  {
   "cell_type": "markdown",
   "id": "e9654d4b",
   "metadata": {},
   "source": [
    "2. Si chiede di trovare, per ogni continente: \n",
    "2a. il numero di casi fin dall'inizio della pandemia"
   ]
  },
  {
   "cell_type": "code",
   "execution_count": 6,
   "id": "afc33a8d",
   "metadata": {},
   "outputs": [
    {
     "name": "stdout",
     "output_type": "stream",
     "text": [
      "continent\n",
      "Asia             301564180.0\n",
      "Europe           252916868.0\n",
      "North America    124492698.0\n",
      "South America     68811012.0\n",
      "Oceania           15003468.0\n",
      "Africa            13146831.0\n",
      "Name: new_cases, dtype: float64\n"
     ]
    }
   ],
   "source": [
    "Numero_casi_continente = covid.groupby([\"continent\"])[\"new_cases\"].sum().sort_values(ascending=False) #Calcolo il numero totale di casi per continente\n",
    "print(Numero_casi_continente)"
   ]
  },
  {
   "cell_type": "markdown",
   "id": "1510bbb5",
   "metadata": {},
   "source": [
    "2b. la percentuale rispetto al totale mondiale del numero di casi"
   ]
  },
  {
   "cell_type": "code",
   "execution_count": null,
   "id": "be0c8c09",
   "metadata": {},
   "outputs": [],
   "source": []
  },
  {
   "cell_type": "code",
   "execution_count": 7,
   "id": "45bdca6c",
   "metadata": {},
   "outputs": [
    {
     "name": "stdout",
     "output_type": "stream",
     "text": [
      "continent\n",
      "Asia             9.170566\n",
      "Europe           7.691201\n",
      "North America    3.785823\n",
      "South America    2.092543\n",
      "Oceania          0.456255\n",
      "Africa           0.399795\n",
      "Name: new_cases, dtype: float64\n"
     ]
    }
   ],
   "source": [
    "Percentuale_casi_continente = Numero_casi_continente / covid[\"new_cases\"].sum() * 100 #Calcolo la percentuale di casi per continente\n",
    "print(Percentuale_casi_continente)"
   ]
  },
  {
   "cell_type": "markdown",
   "id": "80af2e0a",
   "metadata": {},
   "source": [
    "3. Selezionare i dati relativi all'Italia nel 2022 e, poiché i nuovi casi vengono registrati settimanalmente, filtrare via i giorni che non hanno misurazioni; quindi mostrare con dei grafici adeguati: "
   ]
  },
  {
   "cell_type": "code",
   "execution_count": 8,
   "id": "7dbe52af",
   "metadata": {},
   "outputs": [],
   "source": [
    "covid[\"date\"] = pd.to_datetime(covid[\"date\"]) #Converto la colonna \"date\" in formato datetime"
   ]
  },
  {
   "cell_type": "code",
   "execution_count": 9,
   "id": "8ca3c3c2",
   "metadata": {},
   "outputs": [],
   "source": [
    "filtro_italia2022 = covid[(covid[\"location\"] == \"Italy\") & (covid[\"date\"].dt.year == 2022)]  # Filtro il dataframe per l'Italia nel 2022"
   ]
  },
  {
   "cell_type": "code",
   "execution_count": 11,
   "id": "de2726b6",
   "metadata": {},
   "outputs": [
    {
     "data": {
      "text/plain": [
       "iso_code                                     0\n",
       "continent                                    0\n",
       "location                                     0\n",
       "date                                         0\n",
       "total_cases                                  0\n",
       "                                          ... \n",
       "population                                   0\n",
       "excess_mortality_cumulative_absolute       313\n",
       "excess_mortality_cumulative                313\n",
       "excess_mortality                           313\n",
       "excess_mortality_cumulative_per_million    313\n",
       "Length: 67, dtype: int64"
      ]
     },
     "execution_count": 11,
     "metadata": {},
     "output_type": "execute_result"
    }
   ],
   "source": [
    "filtro_italia2022.isnull().sum() #Controllo i valori nulli nel dataframe filtrato"
   ]
  },
  {
   "cell_type": "code",
   "execution_count": 13,
   "id": "5e56ff61",
   "metadata": {},
   "outputs": [],
   "source": [
    "covid_italia2022_totali = filtro_italia2022[[\"date\", \"total_cases\"]]  # Seleziono le colonne desiderate"
   ]
  },
  {
   "cell_type": "code",
   "execution_count": 16,
   "id": "4db4faff",
   "metadata": {},
   "outputs": [
    {
     "data": {
      "text/plain": [
       "date           0\n",
       "total_cases    0\n",
       "dtype: int64"
      ]
     },
     "execution_count": 16,
     "metadata": {},
     "output_type": "execute_result"
    }
   ],
   "source": [
    "covid_italia2022_totali.isnull().sum()  # Controllo i valori nulli nel dataframe filtrato"
   ]
  },
  {
   "cell_type": "markdown",
   "id": "a454317d",
   "metadata": {},
   "source": [
    "3a. L'evoluzione del casi totali dall'inizio alla fine dell'anno"
   ]
  },
  {
   "cell_type": "code",
   "execution_count": 14,
   "id": "258f72ff",
   "metadata": {},
   "outputs": [
    {
     "data": {
      "text/html": [
       "<div>\n",
       "<style scoped>\n",
       "    .dataframe tbody tr th:only-of-type {\n",
       "        vertical-align: middle;\n",
       "    }\n",
       "\n",
       "    .dataframe tbody tr th {\n",
       "        vertical-align: top;\n",
       "    }\n",
       "\n",
       "    .dataframe thead th {\n",
       "        text-align: right;\n",
       "    }\n",
       "</style>\n",
       "<table border=\"1\" class=\"dataframe\">\n",
       "  <thead>\n",
       "    <tr style=\"text-align: right;\">\n",
       "      <th></th>\n",
       "      <th>date</th>\n",
       "      <th>total_cases</th>\n",
       "    </tr>\n",
       "  </thead>\n",
       "  <tbody>\n",
       "    <tr>\n",
       "      <th>186130</th>\n",
       "      <td>2022-05-09</td>\n",
       "      <td>16767773.0</td>\n",
       "    </tr>\n",
       "    <tr>\n",
       "      <th>186244</th>\n",
       "      <td>2022-08-31</td>\n",
       "      <td>21788862.0</td>\n",
       "    </tr>\n",
       "    <tr>\n",
       "      <th>186270</th>\n",
       "      <td>2022-09-26</td>\n",
       "      <td>22284812.0</td>\n",
       "    </tr>\n",
       "    <tr>\n",
       "      <th>186285</th>\n",
       "      <td>2022-10-11</td>\n",
       "      <td>22781293.0</td>\n",
       "    </tr>\n",
       "    <tr>\n",
       "      <th>186306</th>\n",
       "      <td>2022-11-01</td>\n",
       "      <td>23531023.0</td>\n",
       "    </tr>\n",
       "  </tbody>\n",
       "</table>\n",
       "</div>"
      ],
      "text/plain": [
       "             date  total_cases\n",
       "186130 2022-05-09   16767773.0\n",
       "186244 2022-08-31   21788862.0\n",
       "186270 2022-09-26   22284812.0\n",
       "186285 2022-10-11   22781293.0\n",
       "186306 2022-11-01   23531023.0"
      ]
     },
     "execution_count": 14,
     "metadata": {},
     "output_type": "execute_result"
    }
   ],
   "source": [
    "covid_italia2022_totali.sample(5).sort_values(by=\"total_cases\")"
   ]
  },
  {
   "cell_type": "code",
   "execution_count": 15,
   "id": "5acdb87d",
   "metadata": {},
   "outputs": [
    {
     "data": {
      "text/plain": [
       "<Axes: title={'center': 'Casi totali in Italia nel 2022'}, xlabel='date'>"
      ]
     },
     "execution_count": 15,
     "metadata": {},
     "output_type": "execute_result"
    },
    {
     "data": {
      "image/png": "[encoded data removed]",
      "text/plain": [
       "<Figure size 640x480 with 1 Axes>"
      ]
     },
     "metadata": {},
     "output_type": "display_data"
    }
   ],
   "source": [
    "covid_italia2022_totali.plot(x=\"date\", y=\"total_cases\", title=\"Casi totali in Italia nel 2022\", kind = \"line\") "
   ]
  },
  {
   "cell_type": "markdown",
   "id": "720a986f",
   "metadata": {},
   "source": [
    "3b. Il numero di nuovi casi rispetto alla data"
   ]
  },
  {
   "cell_type": "code",
   "execution_count": 21,
   "id": "5947d9e1",
   "metadata": {},
   "outputs": [],
   "source": [
    "covid_italia2022_nuovi = filtro_italia2022[[\"date\", \"new_cases\"]]  # Seleziono le colonne desiderate"
   ]
  },
  {
   "cell_type": "code",
   "execution_count": 18,
   "id": "18d594f2",
   "metadata": {},
   "outputs": [
    {
     "data": {
      "text/html": [
       "<div>\n",
       "<style scoped>\n",
       "    .dataframe tbody tr th:only-of-type {\n",
       "        vertical-align: middle;\n",
       "    }\n",
       "\n",
       "    .dataframe tbody tr th {\n",
       "        vertical-align: top;\n",
       "    }\n",
       "\n",
       "    .dataframe thead th {\n",
       "        text-align: right;\n",
       "    }\n",
       "</style>\n",
       "<table border=\"1\" class=\"dataframe\">\n",
       "  <thead>\n",
       "    <tr style=\"text-align: right;\">\n",
       "      <th></th>\n",
       "      <th>date</th>\n",
       "      <th>new_cases</th>\n",
       "    </tr>\n",
       "  </thead>\n",
       "  <tbody>\n",
       "    <tr>\n",
       "      <th>186003</th>\n",
       "      <td>2022-01-02</td>\n",
       "      <td>644604.0</td>\n",
       "    </tr>\n",
       "    <tr>\n",
       "      <th>186197</th>\n",
       "      <td>2022-07-15</td>\n",
       "      <td>0.0</td>\n",
       "    </tr>\n",
       "    <tr>\n",
       "      <th>186198</th>\n",
       "      <td>2022-07-16</td>\n",
       "      <td>0.0</td>\n",
       "    </tr>\n",
       "    <tr>\n",
       "      <th>186248</th>\n",
       "      <td>2022-09-04</td>\n",
       "      <td>136211.0</td>\n",
       "    </tr>\n",
       "    <tr>\n",
       "      <th>186300</th>\n",
       "      <td>2022-10-26</td>\n",
       "      <td>0.0</td>\n",
       "    </tr>\n",
       "  </tbody>\n",
       "</table>\n",
       "</div>"
      ],
      "text/plain": [
       "             date  new_cases\n",
       "186003 2022-01-02   644604.0\n",
       "186197 2022-07-15        0.0\n",
       "186198 2022-07-16        0.0\n",
       "186248 2022-09-04   136211.0\n",
       "186300 2022-10-26        0.0"
      ]
     },
     "execution_count": 18,
     "metadata": {},
     "output_type": "execute_result"
    }
   ],
   "source": [
    "covid_italia2022_nuovi.sample(5).sort_values(by=\"date\")"
   ]
  },
  {
   "cell_type": "code",
   "execution_count": null,
   "id": "e0986a0a",
   "metadata": {},
   "outputs": [
    {
     "data": {
      "text/plain": [
       "<Axes: title={'center': 'Nuovi casi in Italia nel 2022'}, xlabel='date'>"
      ]
     },
     "execution_count": 23,
     "metadata": {},
     "output_type": "execute_result"
    },
    {
     "data": {
      "image/png": "[encoded data removed]",
      "text/plain": [
       "<Figure size 640x480 with 1 Axes>"
      ]
     },
     "metadata": {},
     "output_type": "display_data"
    }
   ],
   "source": [
    "covid_italia2022_nuovi.plot(x=\"date\", y=\"new_cases\", title=\"Nuovi casi in Italia nel 2022\", kind = \"line\")"
   ]
  },
  {
   "cell_type": "markdown",
   "id": "051278e9",
   "metadata": {},
   "source": [
    "4. Riguardo le nazioni di Italia, Germania e Francia tra Maggio 2022 e Aprile 2023"
   ]
  },
  {
   "cell_type": "code",
   "execution_count": 28,
   "id": "4f4864b2",
   "metadata": {},
   "outputs": [],
   "source": [
    "covid_paesi_22_23 = covid[covid[\"date\"].between(\"2022-05-01\", \"2023-04-30\")] # Filtro il dataframe per il periodo desiderato\n",
    "covid_paesi_22_23 = covid_paesi_22_23[covid_paesi_22_23[\"location\"].isin([\"Italy\", \"Germany\", \"France\"])]  # Filtro il dataframe per i paesi desiderati"
   ]
  },
  {
   "cell_type": "code",
   "execution_count": 29,
   "id": "a5501b8f",
   "metadata": {},
   "outputs": [
    {
     "data": {
      "text/plain": [
       "iso_code                                     0\n",
       "continent                                    0\n",
       "location                                     0\n",
       "date                                         0\n",
       "total_cases                                  0\n",
       "                                          ... \n",
       "population                                   0\n",
       "excess_mortality_cumulative_absolute       936\n",
       "excess_mortality_cumulative                936\n",
       "excess_mortality                           936\n",
       "excess_mortality_cumulative_per_million    936\n",
       "Length: 67, dtype: int64"
      ]
     },
     "execution_count": 29,
     "metadata": {},
     "output_type": "execute_result"
    }
   ],
   "source": [
    "covid_paesi_22_23.isna().sum() #Controllo se ci sono valori nulli nel dataframe"
   ]
  },
  {
   "cell_type": "code",
   "execution_count": 26,
   "id": "51bb2dc0",
   "metadata": {},
   "outputs": [
    {
     "data": {
      "text/plain": [
       "16332"
      ]
     },
     "execution_count": 26,
     "metadata": {},
     "output_type": "execute_result"
    }
   ],
   "source": [
    "covid_paesi_22_23.isnull().sum().sum() #Controllo la quantità di valori nulli nel dataframe"
   ]
  },
  {
   "cell_type": "code",
   "execution_count": 34,
   "id": "092b1754",
   "metadata": {},
   "outputs": [
    {
     "data": {
      "text/plain": [
       "0"
      ]
     },
     "execution_count": 34,
     "metadata": {},
     "output_type": "execute_result"
    }
   ],
   "source": [
    "covid_paesi_22_23[\"icu_patients\"].isnull().sum() #Controllo i valori nulli nella colonna \"icu_patients\""
   ]
  },
  {
   "cell_type": "code",
   "execution_count": 33,
   "id": "efef0d34",
   "metadata": {},
   "outputs": [],
   "source": [
    "covid_paesi_22_23 = covid_paesi_22_23[covid_paesi_22_23[\"icu_patients\"].notna()] #Rimuovo le righe con valori nulli nella colonna \"icu_patients\"\n",
    "covid_paesi_22_23 = covid_paesi_22_23[(covid_paesi_22_23[\"icu_patients\"] > 0)]"
   ]
  },
  {
   "cell_type": "code",
   "execution_count": null,
   "id": "53aa72c5",
   "metadata": {},
   "outputs": [],
   "source": [
    "covid_paesi_22_23[\"icu_patients\"].isnull().sum() #Controllo i valori nulli nella colonna \"icu_patients\""
   ]
  },
  {
   "cell_type": "code",
   "execution_count": 35,
   "id": "6fd3fea9",
   "metadata": {},
   "outputs": [
    {
     "data": {
      "text/plain": [
       "iso_code                                     0\n",
       "continent                                    0\n",
       "location                                     0\n",
       "date                                         0\n",
       "total_cases                                  0\n",
       "                                          ... \n",
       "population                                   0\n",
       "excess_mortality_cumulative_absolute       911\n",
       "excess_mortality_cumulative                911\n",
       "excess_mortality                           911\n",
       "excess_mortality_cumulative_per_million    911\n",
       "Length: 67, dtype: int64"
      ]
     },
     "execution_count": 35,
     "metadata": {},
     "output_type": "execute_result"
    }
   ],
   "source": [
    "covid_paesi_22_23.isna().sum() #Controllo se ci sono valori nulli eliminati"
   ]
  },
  {
   "cell_type": "code",
   "execution_count": 36,
   "id": "9a8c6dda",
   "metadata": {},
   "outputs": [
    {
     "data": {
      "text/plain": [
       "15602"
      ]
     },
     "execution_count": 36,
     "metadata": {},
     "output_type": "execute_result"
    }
   ],
   "source": [
    "covid_paesi_22_23.isnull().sum().sum() #Controllo la quantità di valori nulli nel dataframe"
   ]
  },
  {
   "cell_type": "markdown",
   "id": "4152b936",
   "metadata": {},
   "source": [
    "4a. Mostrare in un boxplot la differenza tra queste nazioni riguardo il numero di pazienti in terapia intensiva (Intensive Care Unit, ICU, considerare quindi la colonna icu_patients) da maggio 2022 (incluso) ad aprile 2023 (incluso)"
   ]
  },
  {
   "cell_type": "code",
   "execution_count": 37,
   "id": "f260171b",
   "metadata": {},
   "outputs": [
    {
     "data": {
      "text/plain": [
       "Text(0.5, 1.0, 'Numero di pazienti in terapia intensiva per paese')"
      ]
     },
     "execution_count": 37,
     "metadata": {},
     "output_type": "execute_result"
    },
    {
     "data": {
      "image/png": "[encoded data removed]",
      "text/plain": [
       "<Figure size 640x480 with 1 Axes>"
      ]
     },
     "metadata": {},
     "output_type": "display_data"
    }
   ],
   "source": [
    "sns.boxplot(data=covid_paesi_22_23, x=\"location\", y=\"icu_patients\") # Visualizzo i dati con un boxplot\n",
    "plt.title(\"Numero di pazienti in terapia intensiva per paese\") # Aggiungo un titolo al grafico"
   ]
  },
  {
   "cell_type": "markdown",
   "id": "659f5c88",
   "metadata": {},
   "source": [
    "4b. Scrivere un breve commento (una o due righe) riguardo che conclusioni possiamo trarre osservando il grafico risultante"
   ]
  },
  {
   "cell_type": "markdown",
   "id": "f64fda29",
   "metadata": {},
   "source": [
    "##### Dal grafico che la Germania ha avuto un indice maggiore di Icu seguita da Francia e Italia. Osserviamo il box che va dal 1° quartile e 3° quartile(25% a 75%)\n",
    "##### Germania:Tra 750 e 1250 con baffo superiore di 1750; Francia:750 e 1200 con baffo superiore di 1500;\n",
    "##### Italia: Tra 150 e 350 con baffo superiore leggermente al di sotto 500"
   ]
  },
  {
   "cell_type": "markdown",
   "id": "3a07177e",
   "metadata": {},
   "source": [
    "5. Riguardo le nazioni di Italia, Germania, Francia e Spagna in tutto il 2021:"
   ]
  },
  {
   "cell_type": "code",
   "execution_count": 41,
   "id": "2f0940a1",
   "metadata": {},
   "outputs": [],
   "source": [
    "covid_paesi_21 = covid[covid[\"date\"].dt.year == 2021]  # Filtro il dataframe per il periodo desiderato\n",
    "covid_paesi_21 = covid_paesi_21[covid_paesi_21[\"location\"].isin([\"Italy\", \"Germany\", \"France\", \"Spain\"])]  # Filtro il dataframe per i paesi desiderati"
   ]
  },
  {
   "cell_type": "markdown",
   "id": "9ce6e744",
   "metadata": {},
   "source": [
    "5a Mostrare, in maniera grafica oppure numerica, la somma dei pazienti ospedalizzati per ognuna colonna (colonna hosp_patients)"
   ]
  },
  {
   "cell_type": "code",
   "execution_count": 42,
   "id": "c54f48ca",
   "metadata": {},
   "outputs": [
    {
     "name": "stdout",
     "output_type": "stream",
     "text": [
      "location\n",
      "France     6008717.0\n",
      "Germany          0.0\n",
      "Italy      4419950.0\n",
      "Spain      2411706.0\n",
      "Name: hosp_patients, dtype: float64\n"
     ]
    }
   ],
   "source": [
    "covid_paesi_21_hosp = covid_paesi_21.groupby([\"location\"])[\"hosp_patients\"].sum() # Calcolo il numero totale di pazienti in ospedale per paese\n",
    "print(covid_paesi_21_hosp)"
   ]
  },
  {
   "cell_type": "code",
   "execution_count": 40,
   "id": "3384ed1a",
   "metadata": {},
   "outputs": [
    {
     "data": {
      "text/plain": [
       "Text(0.5, 1.0, 'Numero totale di pazienti in ospedale per paese')"
      ]
     },
     "execution_count": 40,
     "metadata": {},
     "output_type": "execute_result"
    },
    {
     "data": {
      "image/png": "[encoded data removed]",
      "text/plain": [
       "<Figure size 640x480 with 1 Axes>"
      ]
     },
     "metadata": {},
     "output_type": "display_data"
    }
   ],
   "source": [
    "sns.barplot(data=covid_paesi_21, x=\"location\", y=\"hosp_patients\", estimator=sum) # Visualizzo i dati con un barplot\n",
    "plt.title(\"Numero totale di pazienti in ospedale per paese\") # Aggiungo un titolo al grafico"
   ]
  },
  {
   "cell_type": "markdown",
   "id": "e0f92cb2",
   "metadata": {},
   "source": [
    "5b. Se ci sono dati nulli, con un breve commento scrivere se può essere possibile gestirli tramite sostituzione o meno."
   ]
  },
  {
   "cell_type": "markdown",
   "id": "1f3fa769",
   "metadata": {},
   "source": [
    "##### La colonna hosp_patients della Germania presenta solo dati nulli. La sostituzione risulterebbe inappropriata in quanto\n",
    "##### non si avrebbe riferimento per un ipotetico metodo di sostituzione"
   ]
  },
  {
   "cell_type": "code",
   "execution_count": 46,
   "id": "eb2d8293",
   "metadata": {},
   "outputs": [
    {
     "data": {
      "text/plain": [
       "365"
      ]
     },
     "execution_count": 46,
     "metadata": {},
     "output_type": "execute_result"
    }
   ],
   "source": [
    "covid_germany = covid_paesi_21[covid_paesi_21[\"location\"] == \"Germany\"] # Filtro per controllo dati Germania per verifcare lo 0 precedente\n",
    "covid_germany[\"hosp_patients\"].isna().sum() #Controllo se ci sono valori nulli nel dataframe"
   ]
  },
  {
   "cell_type": "code",
   "execution_count": 55,
   "id": "e27ef93e",
   "metadata": {},
   "outputs": [
    {
     "name": "stdout",
     "output_type": "stream",
     "text": [
      "             date  hosp_patients\n",
      "140935 2021-06-12            NaN\n",
      "140997 2021-08-13            NaN\n",
      "141031 2021-09-16            NaN\n",
      "141072 2021-10-27            NaN\n",
      "140883 2021-04-21            NaN\n",
      "140781 2021-01-09            NaN\n",
      "141022 2021-09-07            NaN\n",
      "140805 2021-02-02            NaN\n",
      "141041 2021-09-26            NaN\n",
      "140908 2021-05-16            NaN\n",
      "140960 2021-07-07            NaN\n",
      "141117 2021-12-11            NaN\n",
      "140896 2021-05-04            NaN\n",
      "140808 2021-02-05            NaN\n",
      "141082 2021-11-06            NaN\n",
      "140802 2021-01-30            NaN\n",
      "141120 2021-12-14            NaN\n",
      "140966 2021-07-13            NaN\n",
      "141070 2021-10-25            NaN\n",
      "140840 2021-03-09            NaN\n"
     ]
    }
   ],
   "source": [
    "print(covid_germany[[\"date\", \"hosp_patients\"]].sample(20)) # Verfica random di 20 righe per Germania"
   ]
  }
 ],
 "metadata": {
  "kernelspec": {
   "display_name": "base",
   "language": "python",
   "name": "python3"
  },
  "language_info": {
   "codemirror_mode": {
    "name": "ipython",
    "version": 3
   },
   "file_extension": ".py",
   "mimetype": "text/x-python",
   "name": "python",
   "nbconvert_exporter": "python",
   "pygments_lexer": "ipython3",
   "version": "3.12.7"
  }
 },
 "nbformat": 4,
 "nbformat_minor": 5
}
